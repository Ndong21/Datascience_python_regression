{
 "cells": [
  {
   "cell_type": "markdown",
   "id": "2297cb80",
   "metadata": {},
   "source": [
    "# Regression Analysis"
   ]
  },
  {
   "cell_type": "markdown",
   "id": "bc2fc3a5",
   "metadata": {},
   "source": [
    "# About the dataset"
   ]
  },
  {
   "cell_type": "markdown",
   "id": "4bde26eb",
   "metadata": {},
   "source": [
    "This dataset was collected to investigate the relationship between systolic blood pressure (Response) and personal characteristics, school types, location, mode of transport to school, BMI and overweight in secondary school children in Fako division, South West Region, Cameroon."
   ]
  },
  {
   "cell_type": "markdown",
   "id": "053f7f95",
   "metadata": {},
   "source": [
    "# Purpose and Objective "
   ]
  },
  {
   "cell_type": "markdown",
   "id": "9ec07572",
   "metadata": {},
   "source": [
    "The purpose of this project is to demonstrate knowledge of exploratory data analysis (EDA) [discovery, structuring, cleaning, joining, validating and presenting] on our dataset as a best practice to give us insights and make data fit for further analysis and modelling. Later on, we wil proceed to build our machine learning models using the cleaned and validated data obtained by performing EDA"
   ]
  },
  {
   "cell_type": "markdown",
   "id": "10a74354",
   "metadata": {},
   "source": [
    "The main objective in this project is to: \n",
    "i) Build a multiple linear regression model to investigate possible predictors of systolic BP and \n",
    "ii) Build a simple logistic regression model using overweight as outcome to identify risk factors of overweight. "
   ]
  },
  {
   "cell_type": "markdown",
   "id": "115bd9cc",
   "metadata": {},
   "source": [
    "# Tools used for analysis, visualizations and model building"
   ]
  },
  {
   "cell_type": "markdown",
   "id": "78a8a1f9",
   "metadata": {},
   "source": [
    "In this project, we will use python libraries for analysis (pandas and numpy), visualization (matplotlib) and model building."
   ]
  },
  {
   "cell_type": "markdown",
   "id": "b1677f34",
   "metadata": {},
   "source": [
    "# Project parts"
   ]
  },
  {
   "cell_type": "markdown",
   "id": "7ccc47ee",
   "metadata": {},
   "source": [
    "This project will be broken down into 3 parts:"
   ]
  },
  {
   "cell_type": "markdown",
   "id": "b2fbd105",
   "metadata": {},
   "source": [
    "# Part 1: Exploratory Data Analysis (EDA)"
   ]
  },
  {
   "cell_type": "markdown",
   "id": "c5aa70db",
   "metadata": {},
   "source": [
    "In this part of the project, we will use the required libraries to get to know our data, find insights, check and handle missing data, as well as visualize our data to spot and identify the characteristics that lie within our data."
   ]
  },
  {
   "cell_type": "markdown",
   "id": "15063983",
   "metadata": {},
   "source": [
    "# Part 2: Model building "
   ]
  },
  {
   "cell_type": "markdown",
   "id": "23fd793d",
   "metadata": {},
   "source": [
    "in this part, we will use the insights generated from the process of the EDA to build our machine learning algorithm."
   ]
  },
  {
   "cell_type": "markdown",
   "id": "024ebfd3",
   "metadata": {},
   "source": [
    "# Part 3: Presentation of results"
   ]
  },
  {
   "cell_type": "markdown",
   "id": "ca3b8232",
   "metadata": {},
   "source": [
    "what insights did we generate from our model? what is the impact of this finding to whom it may concern."
   ]
  },
  {
   "cell_type": "code",
   "execution_count": null,
   "id": "752e24ae",
   "metadata": {},
   "outputs": [],
   "source": []
  }
 ],
 "metadata": {
  "kernelspec": {
   "display_name": "Python 3 (ipykernel)",
   "language": "python",
   "name": "python3"
  },
  "language_info": {
   "codemirror_mode": {
    "name": "ipython",
    "version": 3
   },
   "file_extension": ".py",
   "mimetype": "text/x-python",
   "name": "python",
   "nbconvert_exporter": "python",
   "pygments_lexer": "ipython3",
   "version": "3.11.3"
  }
 },
 "nbformat": 4,
 "nbformat_minor": 5
}
