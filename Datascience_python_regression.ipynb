{
 "cells": [
  {
   "cell_type": "markdown",
   "id": "2297cb80",
   "metadata": {},
   "source": [
    "# Regression Analysis"
   ]
  },
  {
   "cell_type": "markdown",
   "id": "bc2fc3a5",
   "metadata": {},
   "source": [
    "## About the dataset"
   ]
  },
  {
   "cell_type": "markdown",
   "id": "4bde26eb",
   "metadata": {},
   "source": [
    "This dataset was collected to investigate the relationship between systolic blood pressure (Response) and personal characteristics, school types, location, mode of transport to school, BMI and overweight in secondary school children in Fako division, South West Region, Cameroon."
   ]
  },
  {
   "cell_type": "markdown",
   "id": "053f7f95",
   "metadata": {},
   "source": [
    "# Purpose and Objective "
   ]
  },
  {
   "cell_type": "markdown",
   "id": "9ec07572",
   "metadata": {},
   "source": [
    "The purpose of this project is to demonstrate knowledge of exploratory data analysis (EDA) [discovery, structuring, cleaning, joining, validating and presenting] on our dataset as a best practice to give us insights and make data fit for further analysis and modelling. Later on, we wil proceed to build our machine learning models using the cleaned and validated data obtained by performing EDA"
   ]
  },
  {
   "cell_type": "markdown",
   "id": "10a74354",
   "metadata": {},
   "source": [
    "The main objective in this project is to: \n",
    "i) Build a multiple linear regression model to investigate possible predictors of systolic BP and \n",
    "ii) Build a simple logistic regression model using overweight as outcome to identify risk factors of overweight. "
   ]
  },
  {
   "cell_type": "markdown",
   "id": "115bd9cc",
   "metadata": {},
   "source": [
    "# Tools used for analysis, visualizations and model building"
   ]
  },
  {
   "cell_type": "markdown",
   "id": "78a8a1f9",
   "metadata": {},
   "source": [
    "In this project, we will use python libraries for analysis (pandas and numpy), visualization (matplotlib) and model building."
   ]
  },
  {
   "cell_type": "markdown",
   "id": "b1677f34",
   "metadata": {},
   "source": [
    "# Project parts"
   ]
  },
  {
   "cell_type": "markdown",
   "id": "7ccc47ee",
   "metadata": {},
   "source": [
    "This project will be broken down into 3 parts:"
   ]
  },
  {
   "cell_type": "markdown",
   "id": "b2fbd105",
   "metadata": {},
   "source": [
    "# Part 1: Exploratory Data Analysis (EDA)"
   ]
  },
  {
   "cell_type": "markdown",
   "id": "c5aa70db",
   "metadata": {},
   "source": [
    "In this part of the project, we will use the required libraries to get to know our data, find insights, check and handle missing data, as well as visualize our data to spot and identify the characteristics that lie within our data."
   ]
  },
  {
   "cell_type": "markdown",
   "id": "15063983",
   "metadata": {},
   "source": [
    "# Part 2: Model building "
   ]
  },
  {
   "cell_type": "markdown",
   "id": "23fd793d",
   "metadata": {},
   "source": [
    "in this part, we will use the insights generated from the process of the EDA to build our machine learning algorithm."
   ]
  },
  {
   "cell_type": "markdown",
   "id": "024ebfd3",
   "metadata": {},
   "source": [
    "# Part 3: Presentation of results"
   ]
  },
  {
   "cell_type": "markdown",
   "id": "ca3b8232",
   "metadata": {},
   "source": [
    "what insights did we generate from our model? what is the impact of this finding to whom it may concern."
   ]
  },
  {
   "cell_type": "markdown",
   "id": "50835f8a-41ab-4f92-bc27-1655d86ddea5",
   "metadata": {},
   "source": [
    "# Exploratory Data Analysis"
   ]
  },
  {
   "cell_type": "markdown",
   "id": "e3bfdc51-ca00-4e59-9c5b-4f1865c60415",
   "metadata": {},
   "source": [
    "# Importing libraries"
   ]
  },
  {
   "cell_type": "code",
   "execution_count": 2,
   "id": "365b73e2-3499-4b31-b2f5-cde1fa1bfbd7",
   "metadata": {},
   "outputs": [],
   "source": [
    "# import libraries and packages\n",
    "\n",
    "import pandas as pd\n",
    "import numpy as np\n",
    "import matplotlib.pyplot as plt\n",
    "import seaborn as sns"
   ]
  },
  {
   "cell_type": "markdown",
   "id": "8301ddcc",
   "metadata": {},
   "source": [
    "# Load the dataset into a Dataframe\n",
    "The dataset provided is in the form of an excel file named practical data stored in my local machine. We will load the data from the excel file into a Dataframe and save it in a variable"
   ]
  },
  {
   "cell_type": "code",
   "execution_count": 3,
   "id": "ec41cfe6",
   "metadata": {},
   "outputs": [],
   "source": [
    "# Load data from an excel file into a Dataframe and save in a variable\n",
    "# i will load the data to a variable called students since the data is about school children\n",
    "\n",
    "\n",
    "students = pd.read_excel(r'C:\\Users\\THE EYE INFORMATIQUE\\Desktop\\PRACTICAL  DATA.xlsx')"
   ]
  },
  {
   "cell_type": "markdown",
   "id": "648f6666",
   "metadata": {},
   "source": [
    "# Data exploration\n",
    "We will explore the dataset and answer questions to guide our exploration and analysis of the data as well as accurately model our algorithms."
   ]
  },
  {
   "cell_type": "markdown",
   "id": "abcb2113",
   "metadata": {},
   "source": [
    "To begin, let's display the first few rows of our data to get an understanding of how the dataset is structured"
   ]
  },
  {
   "cell_type": "code",
   "execution_count": 40,
   "id": "379ea2a7",
   "metadata": {},
   "outputs": [
    {
     "data": {
      "text/html": [
       "<div>\n",
       "<style scoped>\n",
       "    .dataframe tbody tr th:only-of-type {\n",
       "        vertical-align: middle;\n",
       "    }\n",
       "\n",
       "    .dataframe tbody tr th {\n",
       "        vertical-align: top;\n",
       "    }\n",
       "\n",
       "    .dataframe thead th {\n",
       "        text-align: right;\n",
       "    }\n",
       "</style>\n",
       "<table border=\"1\" class=\"dataframe\">\n",
       "  <thead>\n",
       "    <tr style=\"text-align: right;\">\n",
       "      <th></th>\n",
       "      <th>SN</th>\n",
       "      <th>Location</th>\n",
       "      <th>School types</th>\n",
       "      <th>Class</th>\n",
       "      <th>Age</th>\n",
       "      <th>Sex</th>\n",
       "      <th>Household size</th>\n",
       "      <th>Education level</th>\n",
       "      <th>Overweight in family</th>\n",
       "      <th>Mean to go to school</th>\n",
       "      <th>Weight(kg)</th>\n",
       "      <th>Height(cm)</th>\n",
       "      <th>Abdominal sie</th>\n",
       "      <th>Systolic BP</th>\n",
       "      <th>BMI</th>\n",
       "      <th>Overweight</th>\n",
       "    </tr>\n",
       "  </thead>\n",
       "  <tbody>\n",
       "    <tr>\n",
       "      <th>0</th>\n",
       "      <td>6</td>\n",
       "      <td>Semi urban</td>\n",
       "      <td>Day school</td>\n",
       "      <td>3</td>\n",
       "      <td>13</td>\n",
       "      <td>Female</td>\n",
       "      <td>1</td>\n",
       "      <td>Secondary</td>\n",
       "      <td>No</td>\n",
       "      <td>On foot</td>\n",
       "      <td>43.0</td>\n",
       "      <td>157</td>\n",
       "      <td>75.0</td>\n",
       "      <td>118.0</td>\n",
       "      <td>17.4</td>\n",
       "      <td>No</td>\n",
       "    </tr>\n",
       "    <tr>\n",
       "      <th>1</th>\n",
       "      <td>7</td>\n",
       "      <td>Semi urban</td>\n",
       "      <td>Day school</td>\n",
       "      <td>3</td>\n",
       "      <td>14</td>\n",
       "      <td>Female</td>\n",
       "      <td>2</td>\n",
       "      <td>University</td>\n",
       "      <td>No</td>\n",
       "      <td>On foot</td>\n",
       "      <td>46.0</td>\n",
       "      <td>159</td>\n",
       "      <td>76.0</td>\n",
       "      <td>111.0</td>\n",
       "      <td>18.2</td>\n",
       "      <td>No</td>\n",
       "    </tr>\n",
       "    <tr>\n",
       "      <th>2</th>\n",
       "      <td>22</td>\n",
       "      <td>Semi urban</td>\n",
       "      <td>Day school</td>\n",
       "      <td>1</td>\n",
       "      <td>10</td>\n",
       "      <td>Female</td>\n",
       "      <td>2</td>\n",
       "      <td>University</td>\n",
       "      <td>No</td>\n",
       "      <td>On foot</td>\n",
       "      <td>33.0</td>\n",
       "      <td>132</td>\n",
       "      <td>63.0</td>\n",
       "      <td>94.0</td>\n",
       "      <td>19.2</td>\n",
       "      <td>YES</td>\n",
       "    </tr>\n",
       "    <tr>\n",
       "      <th>3</th>\n",
       "      <td>24</td>\n",
       "      <td>Semi urban</td>\n",
       "      <td>Day school</td>\n",
       "      <td>4</td>\n",
       "      <td>19</td>\n",
       "      <td>Female</td>\n",
       "      <td>2</td>\n",
       "      <td>Primary</td>\n",
       "      <td>No</td>\n",
       "      <td>On foot</td>\n",
       "      <td>65.0</td>\n",
       "      <td>168</td>\n",
       "      <td>80.0</td>\n",
       "      <td>126.0</td>\n",
       "      <td>23.1</td>\n",
       "      <td>No</td>\n",
       "    </tr>\n",
       "    <tr>\n",
       "      <th>4</th>\n",
       "      <td>32</td>\n",
       "      <td>Semi urban</td>\n",
       "      <td>Day school</td>\n",
       "      <td>3</td>\n",
       "      <td>12</td>\n",
       "      <td>Female</td>\n",
       "      <td>2</td>\n",
       "      <td>University</td>\n",
       "      <td>No</td>\n",
       "      <td>On foot</td>\n",
       "      <td>31.0</td>\n",
       "      <td>151</td>\n",
       "      <td>70.0</td>\n",
       "      <td>87.0</td>\n",
       "      <td>13.8</td>\n",
       "      <td>No</td>\n",
       "    </tr>\n",
       "    <tr>\n",
       "      <th>5</th>\n",
       "      <td>38</td>\n",
       "      <td>Semi urban</td>\n",
       "      <td>Day school</td>\n",
       "      <td>3</td>\n",
       "      <td>12</td>\n",
       "      <td>Female</td>\n",
       "      <td>2</td>\n",
       "      <td>Secondary</td>\n",
       "      <td>No</td>\n",
       "      <td>On foot</td>\n",
       "      <td>46.0</td>\n",
       "      <td>155</td>\n",
       "      <td>68.0</td>\n",
       "      <td>123.0</td>\n",
       "      <td>19.3</td>\n",
       "      <td>No</td>\n",
       "    </tr>\n",
       "    <tr>\n",
       "      <th>6</th>\n",
       "      <td>43</td>\n",
       "      <td>Semi urban</td>\n",
       "      <td>Day school</td>\n",
       "      <td>3</td>\n",
       "      <td>13</td>\n",
       "      <td>Female</td>\n",
       "      <td>3</td>\n",
       "      <td>University</td>\n",
       "      <td>No</td>\n",
       "      <td>On foot</td>\n",
       "      <td>50.0</td>\n",
       "      <td>156</td>\n",
       "      <td>73.0</td>\n",
       "      <td>94.0</td>\n",
       "      <td>20.4</td>\n",
       "      <td>No</td>\n",
       "    </tr>\n",
       "    <tr>\n",
       "      <th>7</th>\n",
       "      <td>50</td>\n",
       "      <td>Semi urban</td>\n",
       "      <td>Day school</td>\n",
       "      <td>1</td>\n",
       "      <td>11</td>\n",
       "      <td>Female</td>\n",
       "      <td>2</td>\n",
       "      <td>University</td>\n",
       "      <td>No</td>\n",
       "      <td>On foot</td>\n",
       "      <td>42.0</td>\n",
       "      <td>151</td>\n",
       "      <td>65.0</td>\n",
       "      <td>99.0</td>\n",
       "      <td>18.3</td>\n",
       "      <td>No</td>\n",
       "    </tr>\n",
       "    <tr>\n",
       "      <th>8</th>\n",
       "      <td>63</td>\n",
       "      <td>Rural</td>\n",
       "      <td>Bording</td>\n",
       "      <td>5</td>\n",
       "      <td>17</td>\n",
       "      <td>Female</td>\n",
       "      <td>3</td>\n",
       "      <td>University</td>\n",
       "      <td>No</td>\n",
       "      <td>On foot</td>\n",
       "      <td>45.0</td>\n",
       "      <td>162</td>\n",
       "      <td>68.0</td>\n",
       "      <td>128.0</td>\n",
       "      <td>17.1</td>\n",
       "      <td>No</td>\n",
       "    </tr>\n",
       "    <tr>\n",
       "      <th>9</th>\n",
       "      <td>64</td>\n",
       "      <td>Rural</td>\n",
       "      <td>Bording</td>\n",
       "      <td>2</td>\n",
       "      <td>12</td>\n",
       "      <td>Female</td>\n",
       "      <td>2</td>\n",
       "      <td>Secondary</td>\n",
       "      <td>No</td>\n",
       "      <td>By bike</td>\n",
       "      <td>41.0</td>\n",
       "      <td>146</td>\n",
       "      <td>70.0</td>\n",
       "      <td>108.0</td>\n",
       "      <td>19.3</td>\n",
       "      <td>No</td>\n",
       "    </tr>\n",
       "  </tbody>\n",
       "</table>\n",
       "</div>"
      ],
      "text/plain": [
       "   SN    Location School types  Class   Age     Sex  Household size  \\\n",
       "0   6  Semi urban   Day school       3   13  Female               1   \n",
       "1   7  Semi urban   Day school       3   14  Female               2   \n",
       "2  22  Semi urban   Day school       1   10  Female               2   \n",
       "3  24  Semi urban   Day school       4   19  Female               2   \n",
       "4  32  Semi urban   Day school       3   12  Female               2   \n",
       "5  38  Semi urban   Day school       3   12  Female               2   \n",
       "6  43  Semi urban   Day school       3   13  Female               3   \n",
       "7  50  Semi urban   Day school       1   11  Female               2   \n",
       "8  63       Rural      Bording       5   17  Female               3   \n",
       "9  64       Rural      Bording       2   12  Female               2   \n",
       "\n",
       "  Education level Overweight in family Mean to go to school   Weight(kg)  \\\n",
       "0       Secondary                   No               On foot        43.0   \n",
       "1      University                   No               On foot        46.0   \n",
       "2      University                   No               On foot        33.0   \n",
       "3         Primary                   No               On foot        65.0   \n",
       "4      University                   No               On foot        31.0   \n",
       "5       Secondary                   No               On foot        46.0   \n",
       "6      University                   No               On foot        50.0   \n",
       "7      University                   No               On foot        42.0   \n",
       "8      University                   No               On foot        45.0   \n",
       "9       Secondary                   No               By bike        41.0   \n",
       "\n",
       "   Height(cm)  Abdominal sie  Systolic BP   BMI Overweight  \n",
       "0         157           75.0        118.0  17.4         No  \n",
       "1         159           76.0        111.0  18.2         No  \n",
       "2         132           63.0         94.0  19.2        YES  \n",
       "3         168           80.0        126.0  23.1         No  \n",
       "4         151           70.0         87.0  13.8         No  \n",
       "5         155           68.0        123.0  19.3         No  \n",
       "6         156           73.0         94.0  20.4         No  \n",
       "7         151           65.0         99.0  18.3         No  \n",
       "8         162           68.0        128.0  17.1         No  \n",
       "9         146           70.0        108.0  19.3         No  "
      ]
     },
     "execution_count": 40,
     "metadata": {},
     "output_type": "execute_result"
    }
   ],
   "source": [
    "# Display the first 10 rows of the data\n",
    "# we will use .head() method, which by default displays the first 5 rows\n",
    "\n",
    "\n",
    "students.head(10)"
   ]
  },
  {
   "cell_type": "markdown",
   "id": "b0c8fa93",
   "metadata": {},
   "source": [
    "Let's calculate the number of rows and columns in the dataset"
   ]
  },
  {
   "cell_type": "code",
   "execution_count": 41,
   "id": "e31d6441",
   "metadata": {},
   "outputs": [
    {
     "data": {
      "text/plain": [
       "(1229, 16)"
      ]
     },
     "execution_count": 41,
     "metadata": {},
     "output_type": "execute_result"
    }
   ],
   "source": [
    "# To get the number of rows and columns in our data, we use the shape property\n",
    "\n",
    "students.shape"
   ]
  },
  {
   "cell_type": "markdown",
   "id": "ee5461d3",
   "metadata": {},
   "source": [
    "# Question: \n",
    "What do you notice about the shape of the dataset?"
   ]
  },
  {
   "cell_type": "markdown",
   "id": "e976745d",
   "metadata": {},
   "source": [
    "- The shape of the dataset is (1229, 16). Jhe first number, 1229, represents the number of rows (entries). The second number, 16, represents the number of columns. According to this dataset, 1229 school students were interviewed and evaluate and this dataset shows 16 aspects of each student."
   ]
  },
  {
   "cell_type": "markdown",
   "id": "40235a02",
   "metadata": {},
   "source": [
    "Let's find out the characteristics or aspects (columns) of our dataset, and eliminate the ones we might not need. "
   ]
  },
  {
   "cell_type": "code",
   "execution_count": 42,
   "id": "92293f93",
   "metadata": {},
   "outputs": [
    {
     "data": {
      "text/plain": [
       "Index(['SN', 'Location', 'School types', 'Class ', 'Age', 'Sex',\n",
       "       'Household size', 'Education level', 'Overweight in family',\n",
       "       'Mean to go to school ', 'Weight(kg)', 'Height(cm)', 'Abdominal sie',\n",
       "       'Systolic BP', 'BMI', 'Overweight'],\n",
       "      dtype='object')"
      ]
     },
     "execution_count": 42,
     "metadata": {},
     "output_type": "execute_result"
    }
   ],
   "source": [
    "# Display all the columns in the data set.\n",
    "\n",
    "students.columns"
   ]
  },
  {
   "cell_type": "markdown",
   "id": "07b87628",
   "metadata": {},
   "source": [
    "# Let's do some clean-up\n",
    "Some of these columns are not very relevant to us and hence we will drop them all (SN, Class, Household size, Overweight in family, Abdominal sie)"
   ]
  },
  {
   "cell_type": "code",
   "execution_count": 4,
   "id": "acdd5be7",
   "metadata": {},
   "outputs": [
    {
     "data": {
      "text/plain": [
       "(1229, 11)"
      ]
     },
     "execution_count": 4,
     "metadata": {},
     "output_type": "execute_result"
    }
   ],
   "source": [
    "# Drop columns [SN, Class, Household size, Overweight in family, Abdominal sie]\n",
    "# we set the axis to 1, this is to indicate we wish to delete the columns\n",
    "# we will asign the results back to students variable\n",
    "\n",
    "\n",
    "students = students.drop(['SN', 'Class ', 'Household size', 'Overweight in family', 'Abdominal sie'], axis = 1)\n",
    "\n",
    "students.shape"
   ]
  },
  {
   "cell_type": "markdown",
   "id": "677bccf5",
   "metadata": {},
   "source": [
    "Now we are left with 11 columns which we will use for our analysis.\n",
    "\n",
    "Now, let's preview our dataset "
   ]
  },
  {
   "cell_type": "code",
   "execution_count": 5,
   "id": "15989d94",
   "metadata": {},
   "outputs": [
    {
     "data": {
      "text/html": [
       "<div>\n",
       "<style scoped>\n",
       "    .dataframe tbody tr th:only-of-type {\n",
       "        vertical-align: middle;\n",
       "    }\n",
       "\n",
       "    .dataframe tbody tr th {\n",
       "        vertical-align: top;\n",
       "    }\n",
       "\n",
       "    .dataframe thead th {\n",
       "        text-align: right;\n",
       "    }\n",
       "</style>\n",
       "<table border=\"1\" class=\"dataframe\">\n",
       "  <thead>\n",
       "    <tr style=\"text-align: right;\">\n",
       "      <th></th>\n",
       "      <th>Location</th>\n",
       "      <th>School types</th>\n",
       "      <th>Age</th>\n",
       "      <th>Sex</th>\n",
       "      <th>Education level</th>\n",
       "      <th>Mean to go to school</th>\n",
       "      <th>Weight(kg)</th>\n",
       "      <th>Height(cm)</th>\n",
       "      <th>Systolic BP</th>\n",
       "      <th>BMI</th>\n",
       "      <th>Overweight</th>\n",
       "    </tr>\n",
       "  </thead>\n",
       "  <tbody>\n",
       "    <tr>\n",
       "      <th>0</th>\n",
       "      <td>Semi urban</td>\n",
       "      <td>Day school</td>\n",
       "      <td>13</td>\n",
       "      <td>Female</td>\n",
       "      <td>Secondary</td>\n",
       "      <td>On foot</td>\n",
       "      <td>43.0</td>\n",
       "      <td>157</td>\n",
       "      <td>118.0</td>\n",
       "      <td>17.400000</td>\n",
       "      <td>No</td>\n",
       "    </tr>\n",
       "    <tr>\n",
       "      <th>1</th>\n",
       "      <td>Semi urban</td>\n",
       "      <td>Day school</td>\n",
       "      <td>14</td>\n",
       "      <td>Female</td>\n",
       "      <td>University</td>\n",
       "      <td>On foot</td>\n",
       "      <td>46.0</td>\n",
       "      <td>159</td>\n",
       "      <td>111.0</td>\n",
       "      <td>18.200000</td>\n",
       "      <td>No</td>\n",
       "    </tr>\n",
       "    <tr>\n",
       "      <th>2</th>\n",
       "      <td>Semi urban</td>\n",
       "      <td>Day school</td>\n",
       "      <td>10</td>\n",
       "      <td>Female</td>\n",
       "      <td>University</td>\n",
       "      <td>On foot</td>\n",
       "      <td>33.0</td>\n",
       "      <td>132</td>\n",
       "      <td>94.0</td>\n",
       "      <td>19.200000</td>\n",
       "      <td>YES</td>\n",
       "    </tr>\n",
       "    <tr>\n",
       "      <th>3</th>\n",
       "      <td>Semi urban</td>\n",
       "      <td>Day school</td>\n",
       "      <td>19</td>\n",
       "      <td>Female</td>\n",
       "      <td>Primary</td>\n",
       "      <td>On foot</td>\n",
       "      <td>65.0</td>\n",
       "      <td>168</td>\n",
       "      <td>126.0</td>\n",
       "      <td>23.100000</td>\n",
       "      <td>No</td>\n",
       "    </tr>\n",
       "    <tr>\n",
       "      <th>4</th>\n",
       "      <td>Semi urban</td>\n",
       "      <td>Day school</td>\n",
       "      <td>12</td>\n",
       "      <td>Female</td>\n",
       "      <td>University</td>\n",
       "      <td>On foot</td>\n",
       "      <td>31.0</td>\n",
       "      <td>151</td>\n",
       "      <td>87.0</td>\n",
       "      <td>13.800000</td>\n",
       "      <td>No</td>\n",
       "    </tr>\n",
       "    <tr>\n",
       "      <th>...</th>\n",
       "      <td>...</td>\n",
       "      <td>...</td>\n",
       "      <td>...</td>\n",
       "      <td>...</td>\n",
       "      <td>...</td>\n",
       "      <td>...</td>\n",
       "      <td>...</td>\n",
       "      <td>...</td>\n",
       "      <td>...</td>\n",
       "      <td>...</td>\n",
       "      <td>...</td>\n",
       "    </tr>\n",
       "    <tr>\n",
       "      <th>1224</th>\n",
       "      <td>Rural</td>\n",
       "      <td>Day school</td>\n",
       "      <td>15</td>\n",
       "      <td>Male</td>\n",
       "      <td>University</td>\n",
       "      <td>By bike</td>\n",
       "      <td>45.5</td>\n",
       "      <td>156</td>\n",
       "      <td>112.0</td>\n",
       "      <td>18.696581</td>\n",
       "      <td>No</td>\n",
       "    </tr>\n",
       "    <tr>\n",
       "      <th>1225</th>\n",
       "      <td>Rural</td>\n",
       "      <td>Day school</td>\n",
       "      <td>14</td>\n",
       "      <td>Female</td>\n",
       "      <td>NaN</td>\n",
       "      <td>By car</td>\n",
       "      <td>57.0</td>\n",
       "      <td>163</td>\n",
       "      <td>135.0</td>\n",
       "      <td>21.300000</td>\n",
       "      <td>No</td>\n",
       "    </tr>\n",
       "    <tr>\n",
       "      <th>1226</th>\n",
       "      <td>Rural</td>\n",
       "      <td>Day school</td>\n",
       "      <td>16</td>\n",
       "      <td>Male</td>\n",
       "      <td>Secondary</td>\n",
       "      <td>By car</td>\n",
       "      <td>54.0</td>\n",
       "      <td>158</td>\n",
       "      <td>106.0</td>\n",
       "      <td>21.631149</td>\n",
       "      <td>No</td>\n",
       "    </tr>\n",
       "    <tr>\n",
       "      <th>1227</th>\n",
       "      <td>Rural</td>\n",
       "      <td>Bording school</td>\n",
       "      <td>15</td>\n",
       "      <td>Female</td>\n",
       "      <td>Secondary</td>\n",
       "      <td>On foot</td>\n",
       "      <td>47.0</td>\n",
       "      <td>154</td>\n",
       "      <td>109.0</td>\n",
       "      <td>19.900000</td>\n",
       "      <td>No</td>\n",
       "    </tr>\n",
       "    <tr>\n",
       "      <th>1228</th>\n",
       "      <td>Semi urban</td>\n",
       "      <td>Day school</td>\n",
       "      <td>14</td>\n",
       "      <td>Female</td>\n",
       "      <td>Secondary</td>\n",
       "      <td>On foot</td>\n",
       "      <td>72.0</td>\n",
       "      <td>165</td>\n",
       "      <td>127.0</td>\n",
       "      <td>26.300000</td>\n",
       "      <td>YES</td>\n",
       "    </tr>\n",
       "  </tbody>\n",
       "</table>\n",
       "<p>1229 rows × 11 columns</p>\n",
       "</div>"
      ],
      "text/plain": [
       "        Location    School types  Age     Sex Education level  \\\n",
       "0     Semi urban      Day school   13  Female       Secondary   \n",
       "1     Semi urban      Day school   14  Female      University   \n",
       "2     Semi urban      Day school   10  Female      University   \n",
       "3     Semi urban      Day school   19  Female         Primary   \n",
       "4     Semi urban      Day school   12  Female      University   \n",
       "...          ...             ...  ...     ...             ...   \n",
       "1224       Rural      Day school   15    Male      University   \n",
       "1225       Rural      Day school   14  Female             NaN   \n",
       "1226       Rural      Day school   16    Male       Secondary   \n",
       "1227       Rural  Bording school   15  Female       Secondary   \n",
       "1228  Semi urban      Day school   14  Female       Secondary   \n",
       "\n",
       "     Mean to go to school   Weight(kg)  Height(cm)  Systolic BP        BMI  \\\n",
       "0                  On foot        43.0         157        118.0  17.400000   \n",
       "1                  On foot        46.0         159        111.0  18.200000   \n",
       "2                  On foot        33.0         132         94.0  19.200000   \n",
       "3                  On foot        65.0         168        126.0  23.100000   \n",
       "4                  On foot        31.0         151         87.0  13.800000   \n",
       "...                    ...         ...         ...          ...        ...   \n",
       "1224               By bike        45.5         156        112.0  18.696581   \n",
       "1225                By car        57.0         163        135.0  21.300000   \n",
       "1226                By car        54.0         158        106.0  21.631149   \n",
       "1227               On foot        47.0         154        109.0  19.900000   \n",
       "1228               On foot        72.0         165        127.0  26.300000   \n",
       "\n",
       "     Overweight  \n",
       "0            No  \n",
       "1            No  \n",
       "2           YES  \n",
       "3            No  \n",
       "4            No  \n",
       "...         ...  \n",
       "1224         No  \n",
       "1225         No  \n",
       "1226         No  \n",
       "1227         No  \n",
       "1228        YES  \n",
       "\n",
       "[1229 rows x 11 columns]"
      ]
     },
     "execution_count": 5,
     "metadata": {},
     "output_type": "execute_result"
    }
   ],
   "source": [
    "students"
   ]
  },
  {
   "cell_type": "markdown",
   "id": "231c9101",
   "metadata": {},
   "source": [
    "# Now, let's get some basic information about our dataset\n",
    "To further understand what the dataset entails, let's get basic information about the dataset including the datatypes of each column and number of columns without null values"
   ]
  },
  {
   "cell_type": "code",
   "execution_count": 45,
   "id": "be017434",
   "metadata": {},
   "outputs": [
    {
     "name": "stdout",
     "output_type": "stream",
     "text": [
      "<class 'pandas.core.frame.DataFrame'>\n",
      "RangeIndex: 1229 entries, 0 to 1228\n",
      "Data columns (total 11 columns):\n",
      " #   Column                 Non-Null Count  Dtype  \n",
      "---  ------                 --------------  -----  \n",
      " 0   Location               1229 non-null   object \n",
      " 1   School types           1229 non-null   object \n",
      " 2   Age                    1229 non-null   int64  \n",
      " 3   Sex                    1229 non-null   object \n",
      " 4   Education level        1228 non-null   object \n",
      " 5   Mean to go to school   1229 non-null   object \n",
      " 6   Weight(kg)             1229 non-null   float64\n",
      " 7   Height(cm)             1229 non-null   int64  \n",
      " 8   Systolic BP            1224 non-null   float64\n",
      " 9   BMI                    1229 non-null   float64\n",
      " 10  Overweight             1229 non-null   object \n",
      "dtypes: float64(3), int64(2), object(6)\n",
      "memory usage: 105.7+ KB\n"
     ]
    }
   ],
   "source": [
    "# we will the info() function from pandas to obtain this infomation\n",
    "\n",
    "students.info()"
   ]
  },
  {
   "cell_type": "markdown",
   "id": "755349e3",
   "metadata": {},
   "source": [
    "# Questions\n",
    "What can you comment about the type of data in the various columns?"
   ]
  },
  {
   "cell_type": "markdown",
   "id": "3bc5a9ab",
   "metadata": {},
   "source": [
    "- The dataset has both number (float64 and int64) and string (objects) variables. the number variables are called continous while the string variables are called categorical data. Certain computations are difficult or not even possible to be performed on strings in python, hence, later we will transform all these categories to be represented by numbers which will make computation easier.\n",
    "\n",
    "- Its also weathy to note that our data is pretty clean as it has no missing, or null values in all the columns "
   ]
  },
  {
   "cell_type": "markdown",
   "id": "d658d431",
   "metadata": {},
   "source": [
    "# More on getting to know our data\n",
    "\n",
    "Let explore some descriptive statistics on our dataset"
   ]
  },
  {
   "cell_type": "markdown",
   "id": "47cf2eed",
   "metadata": {},
   "source": [
    "We are going to find some descriptive statistics and structure our data. We will use the describe() function from the pandas library. it will generate statistics for the numeric columns in our dataset"
   ]
  },
  {
   "cell_type": "code",
   "execution_count": 46,
   "id": "cf6bd9b5",
   "metadata": {},
   "outputs": [
    {
     "data": {
      "text/html": [
       "<div>\n",
       "<style scoped>\n",
       "    .dataframe tbody tr th:only-of-type {\n",
       "        vertical-align: middle;\n",
       "    }\n",
       "\n",
       "    .dataframe tbody tr th {\n",
       "        vertical-align: top;\n",
       "    }\n",
       "\n",
       "    .dataframe thead th {\n",
       "        text-align: right;\n",
       "    }\n",
       "</style>\n",
       "<table border=\"1\" class=\"dataframe\">\n",
       "  <thead>\n",
       "    <tr style=\"text-align: right;\">\n",
       "      <th></th>\n",
       "      <th>Age</th>\n",
       "      <th>Weight(kg)</th>\n",
       "      <th>Height(cm)</th>\n",
       "      <th>Systolic BP</th>\n",
       "      <th>BMI</th>\n",
       "    </tr>\n",
       "  </thead>\n",
       "  <tbody>\n",
       "    <tr>\n",
       "      <th>count</th>\n",
       "      <td>1229.000000</td>\n",
       "      <td>1229.000000</td>\n",
       "      <td>1229.000000</td>\n",
       "      <td>1224.000000</td>\n",
       "      <td>1229.000000</td>\n",
       "    </tr>\n",
       "    <tr>\n",
       "      <th>mean</th>\n",
       "      <td>14.827502</td>\n",
       "      <td>54.074369</td>\n",
       "      <td>159.379170</td>\n",
       "      <td>113.162582</td>\n",
       "      <td>21.873039</td>\n",
       "    </tr>\n",
       "    <tr>\n",
       "      <th>std</th>\n",
       "      <td>1.861103</td>\n",
       "      <td>11.438974</td>\n",
       "      <td>20.850822</td>\n",
       "      <td>14.972437</td>\n",
       "      <td>10.066409</td>\n",
       "    </tr>\n",
       "    <tr>\n",
       "      <th>min</th>\n",
       "      <td>10.000000</td>\n",
       "      <td>0.000000</td>\n",
       "      <td>49.000000</td>\n",
       "      <td>64.000000</td>\n",
       "      <td>0.000000</td>\n",
       "    </tr>\n",
       "    <tr>\n",
       "      <th>25%</th>\n",
       "      <td>14.000000</td>\n",
       "      <td>47.000000</td>\n",
       "      <td>154.000000</td>\n",
       "      <td>104.000000</td>\n",
       "      <td>18.900000</td>\n",
       "    </tr>\n",
       "    <tr>\n",
       "      <th>50%</th>\n",
       "      <td>15.000000</td>\n",
       "      <td>54.000000</td>\n",
       "      <td>160.000000</td>\n",
       "      <td>112.000000</td>\n",
       "      <td>20.900000</td>\n",
       "    </tr>\n",
       "    <tr>\n",
       "      <th>75%</th>\n",
       "      <td>16.000000</td>\n",
       "      <td>61.000000</td>\n",
       "      <td>165.000000</td>\n",
       "      <td>122.000000</td>\n",
       "      <td>23.046875</td>\n",
       "    </tr>\n",
       "    <tr>\n",
       "      <th>max</th>\n",
       "      <td>19.000000</td>\n",
       "      <td>91.000000</td>\n",
       "      <td>757.000000</td>\n",
       "      <td>184.000000</td>\n",
       "      <td>180.800000</td>\n",
       "    </tr>\n",
       "  </tbody>\n",
       "</table>\n",
       "</div>"
      ],
      "text/plain": [
       "               Age   Weight(kg)   Height(cm)  Systolic BP          BMI\n",
       "count  1229.000000  1229.000000  1229.000000  1224.000000  1229.000000\n",
       "mean     14.827502    54.074369   159.379170   113.162582    21.873039\n",
       "std       1.861103    11.438974    20.850822    14.972437    10.066409\n",
       "min      10.000000     0.000000    49.000000    64.000000     0.000000\n",
       "25%      14.000000    47.000000   154.000000   104.000000    18.900000\n",
       "50%      15.000000    54.000000   160.000000   112.000000    20.900000\n",
       "75%      16.000000    61.000000   165.000000   122.000000    23.046875\n",
       "max      19.000000    91.000000   757.000000   184.000000   180.800000"
      ]
     },
     "execution_count": 46,
     "metadata": {},
     "output_type": "execute_result"
    }
   ],
   "source": [
    "# let's get descriptive statistics for our numeric data.\n",
    "\n",
    "students.describe()"
   ]
  },
  {
   "cell_type": "markdown",
   "id": "df85aea5",
   "metadata": {},
   "source": [
    "## Questions\n",
    "\n",
    "What can you deduce from the descriptives generated by the describe() function?"
   ]
  },
  {
   "cell_type": "markdown",
   "id": "c031e642",
   "metadata": {},
   "source": [
    "- The table gives us a summary of our numeric data like the mean, standard deviation, minimum value, maximum values of each variable and ofcourse the percentiles.\n",
    "- From the table, we can see that the average age of our participant is approximately 15 years, and the youngest student interviewed was 10 years old while the oldest student was 19 years. The age of our participants did not spread widely away from the mean, this is because the standard deviation is about 1.9, which tell us that the ages of our participants did not vary widely."
   ]
  },
  {
   "cell_type": "markdown",
   "id": "a0ba77a6",
   "metadata": {},
   "source": [
    "Let's take a single variable from the table above and describe datailing what the table says about it. I will choose Systolic BP for our case study because it is actually our variable of interest in this study."
   ]
  },
  {
   "cell_type": "markdown",
   "id": "63b32f82",
   "metadata": {},
   "source": [
    "Let's run the statistics again, but this time only for our variable of interest; Systolic BP"
   ]
  },
  {
   "cell_type": "code",
   "execution_count": 47,
   "id": "aa21b87d",
   "metadata": {},
   "outputs": [
    {
     "data": {
      "text/html": [
       "<div>\n",
       "<style scoped>\n",
       "    .dataframe tbody tr th:only-of-type {\n",
       "        vertical-align: middle;\n",
       "    }\n",
       "\n",
       "    .dataframe tbody tr th {\n",
       "        vertical-align: top;\n",
       "    }\n",
       "\n",
       "    .dataframe thead th {\n",
       "        text-align: right;\n",
       "    }\n",
       "</style>\n",
       "<table border=\"1\" class=\"dataframe\">\n",
       "  <thead>\n",
       "    <tr style=\"text-align: right;\">\n",
       "      <th></th>\n",
       "      <th>Systolic BP</th>\n",
       "    </tr>\n",
       "  </thead>\n",
       "  <tbody>\n",
       "    <tr>\n",
       "      <th>count</th>\n",
       "      <td>1224.000000</td>\n",
       "    </tr>\n",
       "    <tr>\n",
       "      <th>mean</th>\n",
       "      <td>113.162582</td>\n",
       "    </tr>\n",
       "    <tr>\n",
       "      <th>std</th>\n",
       "      <td>14.972437</td>\n",
       "    </tr>\n",
       "    <tr>\n",
       "      <th>min</th>\n",
       "      <td>64.000000</td>\n",
       "    </tr>\n",
       "    <tr>\n",
       "      <th>25%</th>\n",
       "      <td>104.000000</td>\n",
       "    </tr>\n",
       "    <tr>\n",
       "      <th>50%</th>\n",
       "      <td>112.000000</td>\n",
       "    </tr>\n",
       "    <tr>\n",
       "      <th>75%</th>\n",
       "      <td>122.000000</td>\n",
       "    </tr>\n",
       "    <tr>\n",
       "      <th>max</th>\n",
       "      <td>184.000000</td>\n",
       "    </tr>\n",
       "  </tbody>\n",
       "</table>\n",
       "</div>"
      ],
      "text/plain": [
       "       Systolic BP\n",
       "count  1224.000000\n",
       "mean    113.162582\n",
       "std      14.972437\n",
       "min      64.000000\n",
       "25%     104.000000\n",
       "50%     112.000000\n",
       "75%     122.000000\n",
       "max     184.000000"
      ]
     },
     "execution_count": 47,
     "metadata": {},
     "output_type": "execute_result"
    }
   ],
   "source": [
    "# summarise the variable systolic BP\n",
    "\n",
    "students[['Systolic BP']].describe()"
   ]
  },
  {
   "cell_type": "markdown",
   "id": "3982ce11",
   "metadata": {},
   "source": [
    "Our variable of interest have a count of 1224 instead of 1229. This tells us that they are 5 missing values for Systolic BP in our dataset. The mean Sytolic BP for our participants is 113.16 with a standard deviation of std=14.97. this tells us that the Systolic BP of our participants are widely spread out from the mean."
   ]
  },
  {
   "cell_type": "markdown",
   "id": "0734e5a2",
   "metadata": {},
   "source": [
    "###### The five number summary"
   ]
  },
  {
   "cell_type": "markdown",
   "id": "6c182279",
   "metadata": {},
   "source": [
    "The five number summary is i) the minimum ii)the first quartile (Q1) iii) the median or second quartile (Q2) iv) the third quartile (Q3) and v) the maximum."
   ]
  },
  {
   "cell_type": "markdown",
   "id": "bf008d4c",
   "metadata": {},
   "source": [
    "These five numbers give us a sense about the nature of our variable and its spread as well as the position of our data points"
   ]
  },
  {
   "cell_type": "markdown",
   "id": "d76483a2",
   "metadata": {},
   "source": [
    "Let's explain and understand each number summary:"
   ]
  },
  {
   "cell_type": "markdown",
   "id": "27bfa361",
   "metadata": {},
   "source": [
    "- The minimum: this is the lowest value in the dataset\n",
    "\n",
    "- The first quartile (Q1) or 25th percentile (25%): it is the middle number in the first half of the dataset. it means that 25% of the values in the entire dataset are below Q1 and 75% are above it.\n",
    "\n",
    "- The median or second quartile (Q2) or 50th percentile: refers to the middle value of the dataset, it means 50% of values in the entire dataset are below Q2 and 50% are above it.\n",
    "\n",
    "- The third quartile (Q3) or 75th percentile (75%): its the middle number in the second half of the dataset. it means 75% of the values in the entire dataset are below Q3 and 25% are above it.\n",
    "\n",
    "- The maximum: the largest value in the dataset"
   ]
  },
  {
   "cell_type": "markdown",
   "id": "33ca71aa",
   "metadata": {},
   "source": [
    "- minimum: 64\n",
    "- Q1: 104\n",
    "- Q2: 112\n",
    "- Q3: 122\n",
    "- maximum: 184\n"
   ]
  },
  {
   "cell_type": "markdown",
   "id": "17ffd0a7",
   "metadata": {},
   "source": [
    "###### Let's handle the few missing data in our variable Systolic BP\n"
   ]
  },
  {
   "cell_type": "code",
   "execution_count": 6,
   "id": "cfbf1344",
   "metadata": {},
   "outputs": [
    {
     "data": {
      "text/plain": [
       "5"
      ]
     },
     "execution_count": 6,
     "metadata": {},
     "output_type": "execute_result"
    }
   ],
   "source": [
    "# first, let's identify how many missing values we have using either the function isna() or isnull() and then sum() to count\n",
    "# the total number\n",
    "\n",
    "students['Systolic BP'].isna().sum()"
   ]
  },
  {
   "cell_type": "markdown",
   "id": "e2d81f02",
   "metadata": {},
   "source": [
    "As displayed above, we have five students without a value for Systolic BP."
   ]
  },
  {
   "cell_type": "markdown",
   "id": "27625323",
   "metadata": {},
   "source": [
    "## Question"
   ]
  },
  {
   "cell_type": "markdown",
   "id": "991ce25c",
   "metadata": {},
   "source": [
    " #### How do we handle these kinds of situations (missing or null values) ?"
   ]
  },
  {
   "cell_type": "markdown",
   "id": "8197227e",
   "metadata": {},
   "source": [
    "- There are many ways to deal with missing or null values, some of which are to drop the rows or columns, create a NAN category, or fill the missing spaces with values like the median, mean, or others. \n",
    "- However the choice of which method to use in handling missing values is highly dependent on the particular case or situation and the number of missing values as well as the kind of data. \n",
    "- But whatever method an analyst will choose depending on his situation will be such that the results are not tempered with so that the data reveals the insights that are supposed to be."
   ]
  },
  {
   "cell_type": "markdown",
   "id": "5bcbbe5e",
   "metadata": {},
   "source": [
    "###### But what are we gonna do in our case of Systolic BP"
   ]
  },
  {
   "cell_type": "markdown",
   "id": "89410e53",
   "metadata": {},
   "source": [
    "- Our case is quite simple and we will just fill the missing values with the mean value of the Systolic BP"
   ]
  },
  {
   "cell_type": "code",
   "execution_count": 7,
   "id": "6d1d91e9",
   "metadata": {},
   "outputs": [
    {
     "data": {
      "text/plain": [
       "113.1625816993464"
      ]
     },
     "execution_count": 7,
     "metadata": {},
     "output_type": "execute_result"
    }
   ],
   "source": [
    "# first let's calculate the mean of the variable Systolic BP\n",
    "# we will use the mean() function to compute the mean of our variable\n",
    "\n",
    "students['Systolic BP'].mean()"
   ]
  },
  {
   "cell_type": "code",
   "execution_count": 8,
   "id": "47e52c5d",
   "metadata": {},
   "outputs": [],
   "source": [
    "# now let's fill our missing values with the mean which is approximately 113.2\n",
    "# we will use the fillna() function available in pandas.\n",
    "# to effect this update in our dataset, we reassign the output back to the Systolic BP\n",
    "\n",
    "students['Systolic BP'] = students['Systolic BP'].fillna(113.2)"
   ]
  },
  {
   "cell_type": "markdown",
   "id": "2b87154f",
   "metadata": {},
   "source": [
    "Let's check that we no longer have missing values now by using the isna() and sum() functions. this time we should have zero"
   ]
  },
  {
   "cell_type": "code",
   "execution_count": 9,
   "id": "ce246a11",
   "metadata": {},
   "outputs": [
    {
     "data": {
      "text/plain": [
       "0"
      ]
     },
     "execution_count": 9,
     "metadata": {},
     "output_type": "execute_result"
    }
   ],
   "source": [
    "# check for missing values in the variable Systolic BP, it should be zero.\n",
    "\n",
    "students['Systolic BP'].isna().sum()"
   ]
  },
  {
   "cell_type": "markdown",
   "id": "5911e25f",
   "metadata": {},
   "source": [
    "Our response variable (Systolic BP) is a little clean now, later we will finish cleaning it up by checking and handling outliers (values that are too low or too high and do not resemble majority of our data values) and consequently checking for normality. This is very neccessary for accurate analysis and model building using our response variable"
   ]
  },
  {
   "cell_type": "markdown",
   "id": "cd4c6026",
   "metadata": {},
   "source": [
    "# Univariate Analysis"
   ]
  },
  {
   "cell_type": "markdown",
   "id": "53e167b8",
   "metadata": {},
   "source": [
    "Under this subsection in our EDA process, our aim is to evaluate and visualise the distribution of each variable in our dataset. We will focus on a single variable at a time and summaries its features. This will help us understand the distribution of the data better and help us identify anomalies."
   ]
  },
  {
   "cell_type": "markdown",
   "id": "0d6cbb24",
   "metadata": {},
   "source": [
    "Let's start up with categorical data in our dataset"
   ]
  },
  {
   "cell_type": "markdown",
   "id": "078086f9",
   "metadata": {},
   "source": [
    "### Categorical Data"
   ]
  },
  {
   "cell_type": "markdown",
   "id": "2369b67e",
   "metadata": {},
   "source": [
    "First, we will look at age. presently age is a continous variable in our dataset but to better visualise how age is distributed in our dataset. This will also help us compare the Systolic BP in different age groups during bivariate and multi-variate analysis later on. we would start by converting age to categorical data by creating another variable called age_group."
   ]
  },
  {
   "cell_type": "markdown",
   "id": "41f9def5",
   "metadata": {},
   "source": [
    "#####  Activity"
   ]
  },
  {
   "cell_type": "markdown",
   "id": "f10d4941",
   "metadata": {},
   "source": [
    "- Categorize the age into three age groups (10 – 13, 14 – 16, and 17 – 19)"
   ]
  },
  {
   "cell_type": "markdown",
   "id": "a7f4c039",
   "metadata": {},
   "source": [
    "There are several ways to achieve this, but i will use the pandas cut() function"
   ]
  },
  {
   "cell_type": "code",
   "execution_count": 10,
   "id": "3e0301b2",
   "metadata": {},
   "outputs": [],
   "source": [
    "# create a new column in our dataset called age_group\n",
    "# categories age into 3 categories\n",
    "# 10 to 13 yrs: (9, 13], 9 is excluded and 13 is included\n",
    "# 14 to 16 yrs: (13, 16], 13 is excluded and 16 is included\n",
    "# 17 to 19 yrs: (16, 19], 16 is excluded and 19 is included.\n",
    "\n",
    "students['Age_group'] = pd.cut(x=students['Age'], bins=[9, 13, 16, 19], labels=['10 to 13 yrs','14 to 16 yrs','17 to 19 yrs'])\n"
   ]
  },
  {
   "cell_type": "markdown",
   "id": "adfedd4c",
   "metadata": {},
   "source": [
    "To confirm that our categories have been properly calculated, let's display the age and age_group columns."
   ]
  },
  {
   "cell_type": "code",
   "execution_count": 11,
   "id": "ced3ea37",
   "metadata": {},
   "outputs": [
    {
     "data": {
      "text/html": [
       "<div>\n",
       "<style scoped>\n",
       "    .dataframe tbody tr th:only-of-type {\n",
       "        vertical-align: middle;\n",
       "    }\n",
       "\n",
       "    .dataframe tbody tr th {\n",
       "        vertical-align: top;\n",
       "    }\n",
       "\n",
       "    .dataframe thead th {\n",
       "        text-align: right;\n",
       "    }\n",
       "</style>\n",
       "<table border=\"1\" class=\"dataframe\">\n",
       "  <thead>\n",
       "    <tr style=\"text-align: right;\">\n",
       "      <th></th>\n",
       "      <th>Age</th>\n",
       "      <th>Age_group</th>\n",
       "    </tr>\n",
       "  </thead>\n",
       "  <tbody>\n",
       "    <tr>\n",
       "      <th>0</th>\n",
       "      <td>13</td>\n",
       "      <td>10 to 13 yrs</td>\n",
       "    </tr>\n",
       "    <tr>\n",
       "      <th>1</th>\n",
       "      <td>14</td>\n",
       "      <td>14 to 16 yrs</td>\n",
       "    </tr>\n",
       "    <tr>\n",
       "      <th>2</th>\n",
       "      <td>10</td>\n",
       "      <td>10 to 13 yrs</td>\n",
       "    </tr>\n",
       "    <tr>\n",
       "      <th>3</th>\n",
       "      <td>19</td>\n",
       "      <td>17 to 19 yrs</td>\n",
       "    </tr>\n",
       "    <tr>\n",
       "      <th>4</th>\n",
       "      <td>12</td>\n",
       "      <td>10 to 13 yrs</td>\n",
       "    </tr>\n",
       "    <tr>\n",
       "      <th>...</th>\n",
       "      <td>...</td>\n",
       "      <td>...</td>\n",
       "    </tr>\n",
       "    <tr>\n",
       "      <th>1224</th>\n",
       "      <td>15</td>\n",
       "      <td>14 to 16 yrs</td>\n",
       "    </tr>\n",
       "    <tr>\n",
       "      <th>1225</th>\n",
       "      <td>14</td>\n",
       "      <td>14 to 16 yrs</td>\n",
       "    </tr>\n",
       "    <tr>\n",
       "      <th>1226</th>\n",
       "      <td>16</td>\n",
       "      <td>14 to 16 yrs</td>\n",
       "    </tr>\n",
       "    <tr>\n",
       "      <th>1227</th>\n",
       "      <td>15</td>\n",
       "      <td>14 to 16 yrs</td>\n",
       "    </tr>\n",
       "    <tr>\n",
       "      <th>1228</th>\n",
       "      <td>14</td>\n",
       "      <td>14 to 16 yrs</td>\n",
       "    </tr>\n",
       "  </tbody>\n",
       "</table>\n",
       "<p>1229 rows × 2 columns</p>\n",
       "</div>"
      ],
      "text/plain": [
       "      Age     Age_group\n",
       "0      13  10 to 13 yrs\n",
       "1      14  14 to 16 yrs\n",
       "2      10  10 to 13 yrs\n",
       "3      19  17 to 19 yrs\n",
       "4      12  10 to 13 yrs\n",
       "...   ...           ...\n",
       "1224   15  14 to 16 yrs\n",
       "1225   14  14 to 16 yrs\n",
       "1226   16  14 to 16 yrs\n",
       "1227   15  14 to 16 yrs\n",
       "1228   14  14 to 16 yrs\n",
       "\n",
       "[1229 rows x 2 columns]"
      ]
     },
     "execution_count": 11,
     "metadata": {},
     "output_type": "execute_result"
    }
   ],
   "source": [
    "# display the age and age_group columns as a dataframe \n",
    "\n",
    "students[['Age', 'Age_group']]"
   ]
  },
  {
   "cell_type": "markdown",
   "id": "bfd5fc97",
   "metadata": {},
   "source": [
    "Now let's go ahead to perform our univariant analysis by ploting all our categorical data in charts. this will help us see the proportion of each category in terms of count and we can also observe from a higher level if there are any anomalies in our categories, if any then we figure out how to resolve for better and more accurate results."
   ]
  },
  {
   "cell_type": "markdown",
   "id": "a3fc1ee5",
   "metadata": {},
   "source": [
    "To do this, we will use the countplot function"
   ]
  },
  {
   "cell_type": "markdown",
   "id": "adbcf44e",
   "metadata": {},
   "source": [
    "###### 1. Age group"
   ]
  },
  {
   "cell_type": "code",
   "execution_count": 12,
   "id": "fa15836b",
   "metadata": {},
   "outputs": [
    {
     "data": {
      "text/plain": [
       "Age_group   \n",
       "14 to 16 yrs    678\n",
       "10 to 13 yrs    306\n",
       "17 to 19 yrs    245\n",
       "dtype: int64"
      ]
     },
     "execution_count": 12,
     "metadata": {},
     "output_type": "execute_result"
    }
   ],
   "source": [
    "# first get the count of each category\n",
    "\n",
    "students[['Age_group']].value_counts()"
   ]
  },
  {
   "cell_type": "markdown",
   "id": "02d3768b",
   "metadata": {},
   "source": [
    "This tells us that in our dataset, majority of participants are 14 to 16 yrs (678/1229), followed by 10-13 years (306/1229) and then 17-19 years (245/1229)"
   ]
  },
  {
   "cell_type": "code",
   "execution_count": 13,
   "id": "b89040f9",
   "metadata": {},
   "outputs": [
    {
     "data": {
      "image/png": "[encoded data removed]",
      "text/plain": [
       "<Figure size 600x400 with 1 Axes>"
      ]
     },
     "metadata": {},
     "output_type": "display_data"
    }
   ],
   "source": [
    "# now use the countplot() function from seaborn to visualise\n",
    "plt.figure(figsize = (6,4))\n",
    "sns.countplot(x='Age_group', data=students)\n",
    "plt.xlabel('Age Group',fontsize=14)\n",
    "plt.show()"
   ]
  },
  {
   "cell_type": "markdown",
   "id": "5dca1cd1",
   "metadata": {},
   "source": [
    "From the graph above, students between 14 to 16 years were highest in our data followed by students between 10 to 13 years and least by students between 19 and 19 years old. "
   ]
  },
  {
   "cell_type": "markdown",
   "id": "2d8026f2",
   "metadata": {},
   "source": [
    "###### 2. Location"
   ]
  },
  {
   "cell_type": "code",
   "execution_count": 19,
   "id": "67ce3c4c",
   "metadata": {},
   "outputs": [],
   "source": [
    "# first get the count of each category\n",
    "\n",
    "students[['Location']].value_counts()"
   ]
  },
  {
   "cell_type": "code",
   "execution_count": 20,
   "id": "ba966f3c",
   "metadata": {},
   "outputs": [],
   "source": [
    "plt.figure(figsize = (6,4))\n",
    "sns.countplot(x='Location', data=students)\n",
    "plt.xlabel('Location',fontsize=14)\n",
    "plt.show()"
   ]
  },
  {
   "cell_type": "markdown",
   "id": "14871648",
   "metadata": {},
   "source": [
    "###### 3. School type"
   ]
  },
  {
   "cell_type": "code",
   "execution_count": 21,
   "id": "7732d8d7",
   "metadata": {},
   "outputs": [],
   "source": [
    "# first get the count of each category\n",
    "\n",
    "students[['School types']].value_counts()"
   ]
  },
  {
   "cell_type": "code",
   "execution_count": 22,
   "id": "f6b35cf5",
   "metadata": {},
   "outputs": [],
   "source": [
    "plt.figure(figsize = (6,4))\n",
    "sns.countplot(x='School types', data=students)\n",
    "plt.xlabel('School types',fontsize=14)\n",
    "plt.show()"
   ]
  },
  {
   "cell_type": "markdown",
   "id": "606adece",
   "metadata": {},
   "source": [
    "###### 4. Sex"
   ]
  },
  {
   "cell_type": "code",
   "execution_count": 23,
   "id": "3b247c07",
   "metadata": {},
   "outputs": [],
   "source": [
    "# first get the count of each category\n",
    "\n",
    "students[['Sex']].value_counts()"
   ]
  },
  {
   "cell_type": "code",
   "execution_count": 24,
   "id": "89ae7a33",
   "metadata": {},
   "outputs": [],
   "source": [
    "plt.figure(figsize = (6,4))\n",
    "sns.countplot(x='Sex', data=students)\n",
    "plt.xlabel('Gender',fontsize=14)\n",
    "plt.show()"
   ]
  },
  {
   "cell_type": "markdown",
   "id": "36ede2df",
   "metadata": {},
   "source": [
    "###### 5. Education level"
   ]
  },
  {
   "cell_type": "code",
   "execution_count": 25,
   "id": "8e9c2fbf",
   "metadata": {},
   "outputs": [],
   "source": [
    "# first get the count of each category\n",
    "\n",
    "students[['Education level']].value_counts()"
   ]
  },
  {
   "cell_type": "code",
   "execution_count": 26,
   "id": "532238f5",
   "metadata": {},
   "outputs": [],
   "source": [
    "plt.figure(figsize = (6,4))\n",
    "sns.countplot(x='Education level', data=students)\n",
    "plt.xlabel('Education level',fontsize=14)\n",
    "plt.show()"
   ]
  },
  {
   "cell_type": "markdown",
   "id": "f9d26114",
   "metadata": {},
   "source": [
    "###### 6. Overweight"
   ]
  },
  {
   "cell_type": "code",
   "execution_count": 27,
   "id": "3bfc1626",
   "metadata": {},
   "outputs": [],
   "source": [
    "# first get the count of each category\n",
    "\n",
    "students[['Overweight']].value_counts()"
   ]
  },
  {
   "cell_type": "code",
   "execution_count": 28,
   "id": "5d163d52",
   "metadata": {},
   "outputs": [],
   "source": [
    "plt.figure(figsize = (6,4))\n",
    "sns.countplot(x='Overweight', data=students)\n",
    "plt.xlabel('Overweight',fontsize=14)\n",
    "plt.show()"
   ]
  },
  {
   "cell_type": "markdown",
   "id": "a857c02b",
   "metadata": {},
   "source": [
    "###### 7. Means to go to school"
   ]
  },
  {
   "cell_type": "code",
   "execution_count": 29,
   "id": "8d5c667f",
   "metadata": {},
   "outputs": [],
   "source": [
    "# first get the count of each category\n",
    "\n",
    "students[['Mean to go to school ']].value_counts()"
   ]
  },
  {
   "cell_type": "code",
   "execution_count": 30,
   "id": "7de2a33e",
   "metadata": {},
   "outputs": [],
   "source": [
    "plt.figure(figsize = (6,4))\n",
    "sns.countplot(x='Mean to go to school ', data=students)\n",
    "plt.xlabel('Means to go to school',fontsize=14)\n",
    "plt.show()"
   ]
  },
  {
   "cell_type": "markdown",
   "id": "ca9a1578",
   "metadata": {},
   "source": [
    "## What did you observe from this basic visualizations?"
   ]
  },
  {
   "cell_type": "markdown",
   "id": "65137b36",
   "metadata": {},
   "source": [
    "- The column school type and Education level do not make sense."
   ]
  },
  {
   "cell_type": "markdown",
   "id": "d6f6c79a",
   "metadata": {},
   "source": [
    "###### Let's start with school type"
   ]
  },
  {
   "cell_type": "code",
   "execution_count": 31,
   "id": "99d82bf1",
   "metadata": {},
   "outputs": [],
   "source": [
    "students[['School types']].value_counts()"
   ]
  },
  {
   "cell_type": "markdown",
   "id": "400f706c",
   "metadata": {},
   "source": [
    "Observe that we have 3 categories, Day school, bording and bording school. This does not actually make sense since conventionlly, we have just 2 school types, Day school and Bording school. Hence, it's likely this was an error and bording and bording school should probably be one category. so let's replace bording with bording school."
   ]
  },
  {
   "cell_type": "code",
   "execution_count": 32,
   "id": "e704eaff",
   "metadata": {},
   "outputs": [],
   "source": [
    "# replace bording with bording school in our column school type\n",
    "# let's use the replace() function for this task\n",
    "\n",
    "students['School types'] = students['School types'].replace('Bording','Bording school')"
   ]
  },
  {
   "cell_type": "markdown",
   "id": "6306f270",
   "metadata": {},
   "source": [
    "Now let's verify that our operation is successful by displaying the counts and visualization"
   ]
  },
  {
   "cell_type": "code",
   "execution_count": 33,
   "id": "e111247b",
   "metadata": {},
   "outputs": [],
   "source": [
    "# display the counts for each category in the school type column\n",
    "\n",
    "students[['School types']].value_counts()"
   ]
  },
  {
   "cell_type": "code",
   "execution_count": 34,
   "id": "eaa219d1",
   "metadata": {},
   "outputs": [],
   "source": [
    "# plot the graph using countplot()\n",
    "\n",
    "plt.figure(figsize=(6,4))\n",
    "sns.countplot(x='School types', data=students)\n",
    "plt.xlabel('School types', fontsize=14)\n",
    "plt.show()"
   ]
  },
  {
   "cell_type": "markdown",
   "id": "6b5b3ac7",
   "metadata": {},
   "source": [
    "###### Next, we look at the education level column"
   ]
  },
  {
   "cell_type": "markdown",
   "id": "496b9f91",
   "metadata": {},
   "source": [
    "First, let's take a look at the ages and the education level columns"
   ]
  },
  {
   "cell_type": "code",
   "execution_count": 35,
   "id": "d6f99d61",
   "metadata": {},
   "outputs": [],
   "source": [
    "# let's look at the first 50 rows, pay attention to the education level University\n",
    "\n",
    "students[['Age','Education level']].head(50)"
   ]
  },
  {
   "cell_type": "markdown",
   "id": "7cd56821",
   "metadata": {},
   "source": [
    "What do you observe?, to make it even clearer, let's display the number of rows for the education level university against age group for a closer evaluation."
   ]
  },
  {
   "cell_type": "code",
   "execution_count": 36,
   "id": "6ac2ec4e",
   "metadata": {},
   "outputs": [],
   "source": [
    "# display the columns Age group and Education level for University\n",
    "\n",
    "students[['Age_group','Education level']] .loc[students['Education level']=='University'].value_counts()"
   ]
  },
  {
   "cell_type": "markdown",
   "id": "b62d6045",
   "metadata": {},
   "source": [
    "This observation is unlikely as it does not reflect the reality. It says majority of students at university are 14-16 years followed by 10-13 year old person which is practically inaccurate. With the information we have been given about the data and site where it was collected, we can clearly state that there was an error in the data collection and entry process."
   ]
  },
  {
   "cell_type": "markdown",
   "id": "7720ea8e",
   "metadata": {},
   "source": [
    "To solve this problem, we can't drop all rows with education level university as we would drop more than half of our data. At this point, we do not have enough information that can support the fact that those registered under University were supposed to be registered under Secondary, because this is likely the reality."
   ]
  },
  {
   "cell_type": "markdown",
   "id": "3538e1e4",
   "metadata": {},
   "source": [
    "Hence, we might consider changing or modifying our objective of the study after the EDA process is over. For example, instead of our initial goal to determine systolic BP in secondary school students, we might instead consider determining systolic BP in children aged between 10 and 19 years. This will eliminate the bias we have for the column Education level, and in the university category"
   ]
  },
  {
   "cell_type": "markdown",
   "id": "f3fad5f3",
   "metadata": {},
   "source": [
    "## what's next?"
   ]
  },
  {
   "cell_type": "markdown",
   "id": "f6bcec45",
   "metadata": {},
   "source": [
    "We have looked at the distribution of our categorical columns, let's now carry out univariant analysis on our continous variables to see how they are distributed. Later on, we would perform bivariant analysis between all our independent variables and our dependent variable (systolic BP)."
   ]
  },
  {
   "cell_type": "markdown",
   "id": "e7c0ad77",
   "metadata": {},
   "source": [
    "## Univariate Analysis on continous variables"
   ]
  },
  {
   "cell_type": "markdown",
   "id": "8a535636",
   "metadata": {},
   "source": [
    "For our continous variables, there are several functions to use and evaluate their distribution in our dataset identify if the data is normally distributed or not, if we have any missing variables and if there are any outliers"
   ]
  },
  {
   "cell_type": "markdown",
   "id": "68a56b4d",
   "metadata": {},
   "source": [
    "We would use histograms to examine the distribution of our variables and a boxplot to identify any outliers"
   ]
  },
  {
   "cell_type": "code",
   "execution_count": 56,
   "id": "cc6a5a84",
   "metadata": {},
   "outputs": [
    {
     "data": {
      "text/plain": [
       "Age              int64\n",
       "Weight(kg)     float64\n",
       "Height(cm)       int64\n",
       "Systolic BP    float64\n",
       "BMI            float64\n",
       "dtype: object"
      ]
     },
     "execution_count": 56,
     "metadata": {},
     "output_type": "execute_result"
    }
   ],
   "source": [
    "# display all continous variables in your dataset\n",
    "\n",
    "students.select_dtypes(include=['int64','float64']).dtypes"
   ]
  },
  {
   "cell_type": "markdown",
   "id": "bf034dc6",
   "metadata": {},
   "source": [
    "From output above, we have 5 continous variables. for each variable, we would display a histogram and a density curve to understand the skewness of the data and we would display the boxplots as well to help us identify any outliers in our data especially on our reponse variable (Sytolic BP)"
   ]
  },
  {
   "cell_type": "markdown",
   "id": "62b2e106",
   "metadata": {},
   "source": [
    "Note that we already categorised our age variable, so that we can can compare analysis between those age groups, therefore we no longer need to perform any analysis using our continous age variable."
   ]
  },
  {
   "cell_type": "markdown",
   "id": "ba2485ea",
   "metadata": {},
   "source": [
    "###### 1. Weight(kg)"
   ]
  },
  {
   "cell_type": "markdown",
   "id": "4679eafa",
   "metadata": {},
   "source": [
    "Summary statistics"
   ]
  },
  {
   "cell_type": "code",
   "execution_count": 60,
   "id": "8d4a30c1",
   "metadata": {},
   "outputs": [
    {
     "data": {
      "text/html": [
       "<div>\n",
       "<style scoped>\n",
       "    .dataframe tbody tr th:only-of-type {\n",
       "        vertical-align: middle;\n",
       "    }\n",
       "\n",
       "    .dataframe tbody tr th {\n",
       "        vertical-align: top;\n",
       "    }\n",
       "\n",
       "    .dataframe thead th {\n",
       "        text-align: right;\n",
       "    }\n",
       "</style>\n",
       "<table border=\"1\" class=\"dataframe\">\n",
       "  <thead>\n",
       "    <tr style=\"text-align: right;\">\n",
       "      <th></th>\n",
       "      <th>Weight(kg)</th>\n",
       "    </tr>\n",
       "  </thead>\n",
       "  <tbody>\n",
       "    <tr>\n",
       "      <th>count</th>\n",
       "      <td>1229.000000</td>\n",
       "    </tr>\n",
       "    <tr>\n",
       "      <th>mean</th>\n",
       "      <td>54.074369</td>\n",
       "    </tr>\n",
       "    <tr>\n",
       "      <th>std</th>\n",
       "      <td>11.438974</td>\n",
       "    </tr>\n",
       "    <tr>\n",
       "      <th>min</th>\n",
       "      <td>0.000000</td>\n",
       "    </tr>\n",
       "    <tr>\n",
       "      <th>25%</th>\n",
       "      <td>47.000000</td>\n",
       "    </tr>\n",
       "    <tr>\n",
       "      <th>50%</th>\n",
       "      <td>54.000000</td>\n",
       "    </tr>\n",
       "    <tr>\n",
       "      <th>75%</th>\n",
       "      <td>61.000000</td>\n",
       "    </tr>\n",
       "    <tr>\n",
       "      <th>max</th>\n",
       "      <td>91.000000</td>\n",
       "    </tr>\n",
       "  </tbody>\n",
       "</table>\n",
       "</div>"
      ],
      "text/plain": [
       "        Weight(kg)\n",
       "count  1229.000000\n",
       "mean     54.074369\n",
       "std      11.438974\n",
       "min       0.000000\n",
       "25%      47.000000\n",
       "50%      54.000000\n",
       "75%      61.000000\n",
       "max      91.000000"
      ]
     },
     "execution_count": 60,
     "metadata": {},
     "output_type": "execute_result"
    }
   ],
   "source": [
    "# use the describe() function to display the mean, std deviation etc\n",
    "\n",
    "students[['Weight(kg)']].describe()"
   ]
  },
  {
   "cell_type": "markdown",
   "id": "9ef415d7",
   "metadata": {},
   "source": [
    "The summary statistics shows that the average age of our participants is 54.07kg with a standard deviation of 11.43 which tells us how our weight variable is spread around the mean. The summary statistics show that the minimum weight is 0.0kg, this abnormal as no person weighs 0.0kg. likely an error in our data. The 25th, 50th, 75% percentile indicate that 25% of participants have ages less than 47.0kg, 50% of participants have ages less than 54% and 25% of our participants have ages greater than 61.0kg respectively. The maximum weight is 91.0kg"
   ]
  },
  {
   "cell_type": "markdown",
   "id": "ae051adb",
   "metadata": {},
   "source": [
    "Let's further examine to see all the rows with abnormal weights"
   ]
  },
  {
   "cell_type": "code",
   "execution_count": 67,
   "id": "c9309b5c",
   "metadata": {},
   "outputs": [
    {
     "data": {
      "text/html": [
       "<div>\n",
       "<style scoped>\n",
       "    .dataframe tbody tr th:only-of-type {\n",
       "        vertical-align: middle;\n",
       "    }\n",
       "\n",
       "    .dataframe tbody tr th {\n",
       "        vertical-align: top;\n",
       "    }\n",
       "\n",
       "    .dataframe thead th {\n",
       "        text-align: right;\n",
       "    }\n",
       "</style>\n",
       "<table border=\"1\" class=\"dataframe\">\n",
       "  <thead>\n",
       "    <tr style=\"text-align: right;\">\n",
       "      <th></th>\n",
       "      <th>Location</th>\n",
       "      <th>School types</th>\n",
       "      <th>Age</th>\n",
       "      <th>Sex</th>\n",
       "      <th>Education level</th>\n",
       "      <th>Mean to go to school</th>\n",
       "      <th>Weight(kg)</th>\n",
       "      <th>Height(cm)</th>\n",
       "      <th>Systolic BP</th>\n",
       "      <th>BMI</th>\n",
       "      <th>Overweight</th>\n",
       "      <th>Age_group</th>\n",
       "    </tr>\n",
       "  </thead>\n",
       "  <tbody>\n",
       "    <tr>\n",
       "      <th>682</th>\n",
       "      <td>Rural</td>\n",
       "      <td>Bording school</td>\n",
       "      <td>13</td>\n",
       "      <td>Female</td>\n",
       "      <td>Secondary</td>\n",
       "      <td>On foot</td>\n",
       "      <td>0.0</td>\n",
       "      <td>161</td>\n",
       "      <td>93.0</td>\n",
       "      <td>0.000000</td>\n",
       "      <td>No</td>\n",
       "      <td>10 to 13 yrs</td>\n",
       "    </tr>\n",
       "    <tr>\n",
       "      <th>233</th>\n",
       "      <td>Semi urban</td>\n",
       "      <td>Day school</td>\n",
       "      <td>15</td>\n",
       "      <td>Female</td>\n",
       "      <td>Secondary</td>\n",
       "      <td>On foot</td>\n",
       "      <td>4.0</td>\n",
       "      <td>158</td>\n",
       "      <td>105.0</td>\n",
       "      <td>1.400000</td>\n",
       "      <td>YES</td>\n",
       "      <td>14 to 16 yrs</td>\n",
       "    </tr>\n",
       "    <tr>\n",
       "      <th>659</th>\n",
       "      <td>Semi urban</td>\n",
       "      <td>Bording school</td>\n",
       "      <td>15</td>\n",
       "      <td>Female</td>\n",
       "      <td>University</td>\n",
       "      <td>On foot</td>\n",
       "      <td>4.0</td>\n",
       "      <td>158</td>\n",
       "      <td>95.0</td>\n",
       "      <td>1.400000</td>\n",
       "      <td>No</td>\n",
       "      <td>14 to 16 yrs</td>\n",
       "    </tr>\n",
       "    <tr>\n",
       "      <th>703</th>\n",
       "      <td>Rural</td>\n",
       "      <td>Bording school</td>\n",
       "      <td>17</td>\n",
       "      <td>Female</td>\n",
       "      <td>University</td>\n",
       "      <td>On foot</td>\n",
       "      <td>7.0</td>\n",
       "      <td>162</td>\n",
       "      <td>123.0</td>\n",
       "      <td>2.700000</td>\n",
       "      <td>YES</td>\n",
       "      <td>17 to 19 yrs</td>\n",
       "    </tr>\n",
       "    <tr>\n",
       "      <th>1178</th>\n",
       "      <td>Semi urban</td>\n",
       "      <td>Day school</td>\n",
       "      <td>16</td>\n",
       "      <td>Male</td>\n",
       "      <td>Secondary</td>\n",
       "      <td>On foot</td>\n",
       "      <td>7.2</td>\n",
       "      <td>165</td>\n",
       "      <td>146.0</td>\n",
       "      <td>2.644628</td>\n",
       "      <td>YES</td>\n",
       "      <td>14 to 16 yrs</td>\n",
       "    </tr>\n",
       "    <tr>\n",
       "      <th>277</th>\n",
       "      <td>Semi urban</td>\n",
       "      <td>Day school</td>\n",
       "      <td>16</td>\n",
       "      <td>Female</td>\n",
       "      <td>University</td>\n",
       "      <td>By car</td>\n",
       "      <td>8.0</td>\n",
       "      <td>170</td>\n",
       "      <td>118.0</td>\n",
       "      <td>2.700000</td>\n",
       "      <td>YES</td>\n",
       "      <td>14 to 16 yrs</td>\n",
       "    </tr>\n",
       "    <tr>\n",
       "      <th>533</th>\n",
       "      <td>Rural</td>\n",
       "      <td>Day school</td>\n",
       "      <td>13</td>\n",
       "      <td>Female</td>\n",
       "      <td>University</td>\n",
       "      <td>On foot</td>\n",
       "      <td>8.0</td>\n",
       "      <td>165</td>\n",
       "      <td>136.0</td>\n",
       "      <td>2.900000</td>\n",
       "      <td>YES</td>\n",
       "      <td>10 to 13 yrs</td>\n",
       "    </tr>\n",
       "    <tr>\n",
       "      <th>1162</th>\n",
       "      <td>Semi urban</td>\n",
       "      <td>Day school</td>\n",
       "      <td>15</td>\n",
       "      <td>Male</td>\n",
       "      <td>Secondary</td>\n",
       "      <td>By car</td>\n",
       "      <td>26.0</td>\n",
       "      <td>154</td>\n",
       "      <td>95.0</td>\n",
       "      <td>10.963063</td>\n",
       "      <td>YES</td>\n",
       "      <td>14 to 16 yrs</td>\n",
       "    </tr>\n",
       "    <tr>\n",
       "      <th>1213</th>\n",
       "      <td>Semi urban</td>\n",
       "      <td>Day school</td>\n",
       "      <td>15</td>\n",
       "      <td>Male</td>\n",
       "      <td>Secondary</td>\n",
       "      <td>By car</td>\n",
       "      <td>26.0</td>\n",
       "      <td>154</td>\n",
       "      <td>95.0</td>\n",
       "      <td>10.963063</td>\n",
       "      <td>YES</td>\n",
       "      <td>14 to 16 yrs</td>\n",
       "    </tr>\n",
       "    <tr>\n",
       "      <th>1067</th>\n",
       "      <td>Rural</td>\n",
       "      <td>Bording</td>\n",
       "      <td>12</td>\n",
       "      <td>Male</td>\n",
       "      <td>Secondary</td>\n",
       "      <td>On foot</td>\n",
       "      <td>27.7</td>\n",
       "      <td>137</td>\n",
       "      <td>99.0</td>\n",
       "      <td>14.758378</td>\n",
       "      <td>YES</td>\n",
       "      <td>10 to 13 yrs</td>\n",
       "    </tr>\n",
       "  </tbody>\n",
       "</table>\n",
       "</div>"
      ],
      "text/plain": [
       "        Location    School types  Age     Sex Education level  \\\n",
       "682        Rural  Bording school   13  Female       Secondary   \n",
       "233   Semi urban      Day school   15  Female       Secondary   \n",
       "659   Semi urban  Bording school   15  Female      University   \n",
       "703        Rural  Bording school   17  Female      University   \n",
       "1178  Semi urban      Day school   16    Male       Secondary   \n",
       "277   Semi urban      Day school   16  Female      University   \n",
       "533        Rural      Day school   13  Female      University   \n",
       "1162  Semi urban      Day school   15    Male       Secondary   \n",
       "1213  Semi urban      Day school   15    Male       Secondary   \n",
       "1067       Rural         Bording   12    Male       Secondary   \n",
       "\n",
       "     Mean to go to school   Weight(kg)  Height(cm)  Systolic BP        BMI  \\\n",
       "682                On foot         0.0         161         93.0   0.000000   \n",
       "233                On foot         4.0         158        105.0   1.400000   \n",
       "659                On foot         4.0         158         95.0   1.400000   \n",
       "703                On foot         7.0         162        123.0   2.700000   \n",
       "1178               On foot         7.2         165        146.0   2.644628   \n",
       "277                 By car         8.0         170        118.0   2.700000   \n",
       "533                On foot         8.0         165        136.0   2.900000   \n",
       "1162                By car        26.0         154         95.0  10.963063   \n",
       "1213                By car        26.0         154         95.0  10.963063   \n",
       "1067               On foot        27.7         137         99.0  14.758378   \n",
       "\n",
       "     Overweight     Age_group  \n",
       "682          No  10 to 13 yrs  \n",
       "233         YES  14 to 16 yrs  \n",
       "659          No  14 to 16 yrs  \n",
       "703         YES  17 to 19 yrs  \n",
       "1178        YES  14 to 16 yrs  \n",
       "277         YES  14 to 16 yrs  \n",
       "533         YES  10 to 13 yrs  \n",
       "1162        YES  14 to 16 yrs  \n",
       "1213        YES  14 to 16 yrs  \n",
       "1067        YES  10 to 13 yrs  "
      ]
     },
     "execution_count": 67,
     "metadata": {},
     "output_type": "execute_result"
    }
   ],
   "source": [
    "# use the sort_values() to display the data from lowest weight to highest\n",
    "\n",
    "students.sort_values(by='Weight(kg)').head(10)"
   ]
  },
  {
   "cell_type": "markdown",
   "id": "4d6d74cb",
   "metadata": {},
   "source": [
    "So, from our output we can see that there are 7 rows with weights that indicate error. we will further visualise this with a boxplot to verify that these are really outliers."
   ]
  },
  {
   "cell_type": "code",
   "execution_count": 55,
   "id": "e141cf73",
   "metadata": {},
   "outputs": [
    {
     "data": {
      "image/png": "[encoded data removed]",
      "text/plain": [
       "<Figure size 640x480 with 1 Axes>"
      ]
     },
     "metadata": {},
     "output_type": "display_data"
    }
   ],
   "source": [
    "# display a histogram and a density plot for weight.\n",
    "\n",
    "students.hist(column='Weight(kg)', grid=False)\n",
    "plt.show()"
   ]
  },
  {
   "cell_type": "code",
   "execution_count": 26,
   "id": "b962a55c",
   "metadata": {},
   "outputs": [
    {
     "data": {
      "image/png": "[encoded data removed]",
      "text/plain": [
       "<Figure size 640x480 with 1 Axes>"
      ]
     },
     "metadata": {},
     "output_type": "display_data"
    }
   ],
   "source": [
    "# display a box plot\n",
    "\n",
    "box=sns.boxplot(y=students['Weight(kg)'])\n"
   ]
  },
  {
   "cell_type": "markdown",
   "id": "e1c370e9",
   "metadata": {},
   "source": [
    "As we can see from the boxplot, there exist extreme values for weight in our dataset that do not reflect majority of the rest of the data. This makes them outliers."
   ]
  },
  {
   "cell_type": "markdown",
   "id": "20c80275",
   "metadata": {},
   "source": [
    "###### Height(cm)"
   ]
  },
  {
   "cell_type": "markdown",
   "id": "15299b3a",
   "metadata": {},
   "source": [
    "Summary statistics"
   ]
  },
  {
   "cell_type": "code",
   "execution_count": 48,
   "id": "f942f91d",
   "metadata": {},
   "outputs": [
    {
     "data": {
      "text/html": [
       "<div>\n",
       "<style scoped>\n",
       "    .dataframe tbody tr th:only-of-type {\n",
       "        vertical-align: middle;\n",
       "    }\n",
       "\n",
       "    .dataframe tbody tr th {\n",
       "        vertical-align: top;\n",
       "    }\n",
       "\n",
       "    .dataframe thead th {\n",
       "        text-align: right;\n",
       "    }\n",
       "</style>\n",
       "<table border=\"1\" class=\"dataframe\">\n",
       "  <thead>\n",
       "    <tr style=\"text-align: right;\">\n",
       "      <th></th>\n",
       "      <th>Height(cm)</th>\n",
       "    </tr>\n",
       "  </thead>\n",
       "  <tbody>\n",
       "    <tr>\n",
       "      <th>count</th>\n",
       "      <td>1229.000000</td>\n",
       "    </tr>\n",
       "    <tr>\n",
       "      <th>mean</th>\n",
       "      <td>159.379170</td>\n",
       "    </tr>\n",
       "    <tr>\n",
       "      <th>std</th>\n",
       "      <td>20.850822</td>\n",
       "    </tr>\n",
       "    <tr>\n",
       "      <th>min</th>\n",
       "      <td>49.000000</td>\n",
       "    </tr>\n",
       "    <tr>\n",
       "      <th>25%</th>\n",
       "      <td>154.000000</td>\n",
       "    </tr>\n",
       "    <tr>\n",
       "      <th>50%</th>\n",
       "      <td>160.000000</td>\n",
       "    </tr>\n",
       "    <tr>\n",
       "      <th>75%</th>\n",
       "      <td>165.000000</td>\n",
       "    </tr>\n",
       "    <tr>\n",
       "      <th>max</th>\n",
       "      <td>757.000000</td>\n",
       "    </tr>\n",
       "  </tbody>\n",
       "</table>\n",
       "</div>"
      ],
      "text/plain": [
       "        Height(cm)\n",
       "count  1229.000000\n",
       "mean    159.379170\n",
       "std      20.850822\n",
       "min      49.000000\n",
       "25%     154.000000\n",
       "50%     160.000000\n",
       "75%     165.000000\n",
       "max     757.000000"
      ]
     },
     "execution_count": 48,
     "metadata": {},
     "output_type": "execute_result"
    }
   ],
   "source": [
    "# use the describe() function to display the mean, std deviation etc\n",
    "\n",
    "students[['Height(cm)']].describe()"
   ]
  },
  {
   "cell_type": "markdown",
   "id": "5b3e3c5f",
   "metadata": {},
   "source": [
    "From the summary table, min height is 49 and max height is 757. This is very unrealistic. firsts sort our data according to decreasing height to observe the values"
   ]
  },
  {
   "cell_type": "code",
   "execution_count": 68,
   "id": "8a5dc307",
   "metadata": {},
   "outputs": [
    {
     "data": {
      "text/html": [
       "<div>\n",
       "<style scoped>\n",
       "    .dataframe tbody tr th:only-of-type {\n",
       "        vertical-align: middle;\n",
       "    }\n",
       "\n",
       "    .dataframe tbody tr th {\n",
       "        vertical-align: top;\n",
       "    }\n",
       "\n",
       "    .dataframe thead th {\n",
       "        text-align: right;\n",
       "    }\n",
       "</style>\n",
       "<table border=\"1\" class=\"dataframe\">\n",
       "  <thead>\n",
       "    <tr style=\"text-align: right;\">\n",
       "      <th></th>\n",
       "      <th>Location</th>\n",
       "      <th>School types</th>\n",
       "      <th>Age</th>\n",
       "      <th>Sex</th>\n",
       "      <th>Education level</th>\n",
       "      <th>Mean to go to school</th>\n",
       "      <th>Weight(kg)</th>\n",
       "      <th>Height(cm)</th>\n",
       "      <th>Systolic BP</th>\n",
       "      <th>BMI</th>\n",
       "      <th>Overweight</th>\n",
       "      <th>Age_group</th>\n",
       "    </tr>\n",
       "  </thead>\n",
       "  <tbody>\n",
       "    <tr>\n",
       "      <th>142</th>\n",
       "      <td>Rural</td>\n",
       "      <td>Bording school</td>\n",
       "      <td>16</td>\n",
       "      <td>Female</td>\n",
       "      <td>Secondary</td>\n",
       "      <td>On foot</td>\n",
       "      <td>58.0</td>\n",
       "      <td>757</td>\n",
       "      <td>88.0</td>\n",
       "      <td>1.000000</td>\n",
       "      <td>No</td>\n",
       "      <td>14 to 16 yrs</td>\n",
       "    </tr>\n",
       "    <tr>\n",
       "      <th>976</th>\n",
       "      <td>Rural</td>\n",
       "      <td>Bording school</td>\n",
       "      <td>19</td>\n",
       "      <td>Male</td>\n",
       "      <td>University</td>\n",
       "      <td>By car</td>\n",
       "      <td>75.0</td>\n",
       "      <td>189</td>\n",
       "      <td>104.0</td>\n",
       "      <td>20.996053</td>\n",
       "      <td>No</td>\n",
       "      <td>17 to 19 yrs</td>\n",
       "    </tr>\n",
       "    <tr>\n",
       "      <th>997</th>\n",
       "      <td>Semi urban</td>\n",
       "      <td>Day school</td>\n",
       "      <td>16</td>\n",
       "      <td>Male</td>\n",
       "      <td>Secondary</td>\n",
       "      <td>On foot</td>\n",
       "      <td>82.5</td>\n",
       "      <td>188</td>\n",
       "      <td>124.0</td>\n",
       "      <td>23.342010</td>\n",
       "      <td>No</td>\n",
       "      <td>14 to 16 yrs</td>\n",
       "    </tr>\n",
       "    <tr>\n",
       "      <th>1181</th>\n",
       "      <td>Rural</td>\n",
       "      <td>Bording school</td>\n",
       "      <td>18</td>\n",
       "      <td>Male</td>\n",
       "      <td>University</td>\n",
       "      <td>On foot</td>\n",
       "      <td>74.5</td>\n",
       "      <td>187</td>\n",
       "      <td>118.0</td>\n",
       "      <td>21.304584</td>\n",
       "      <td>No</td>\n",
       "      <td>17 to 19 yrs</td>\n",
       "    </tr>\n",
       "    <tr>\n",
       "      <th>1003</th>\n",
       "      <td>Semi urban</td>\n",
       "      <td>Day school</td>\n",
       "      <td>17</td>\n",
       "      <td>Male</td>\n",
       "      <td>University</td>\n",
       "      <td>On foot</td>\n",
       "      <td>72.5</td>\n",
       "      <td>186</td>\n",
       "      <td>119.0</td>\n",
       "      <td>20.956180</td>\n",
       "      <td>No</td>\n",
       "      <td>17 to 19 yrs</td>\n",
       "    </tr>\n",
       "    <tr>\n",
       "      <th>...</th>\n",
       "      <td>...</td>\n",
       "      <td>...</td>\n",
       "      <td>...</td>\n",
       "      <td>...</td>\n",
       "      <td>...</td>\n",
       "      <td>...</td>\n",
       "      <td>...</td>\n",
       "      <td>...</td>\n",
       "      <td>...</td>\n",
       "      <td>...</td>\n",
       "      <td>...</td>\n",
       "      <td>...</td>\n",
       "    </tr>\n",
       "    <tr>\n",
       "      <th>314</th>\n",
       "      <td>Semi urban</td>\n",
       "      <td>Day school</td>\n",
       "      <td>15</td>\n",
       "      <td>Female</td>\n",
       "      <td>University</td>\n",
       "      <td>By car</td>\n",
       "      <td>46.0</td>\n",
       "      <td>57</td>\n",
       "      <td>111.0</td>\n",
       "      <td>141.600000</td>\n",
       "      <td>YES</td>\n",
       "      <td>14 to 16 yrs</td>\n",
       "    </tr>\n",
       "    <tr>\n",
       "      <th>199</th>\n",
       "      <td>Semi urban</td>\n",
       "      <td>Day school</td>\n",
       "      <td>15</td>\n",
       "      <td>Female</td>\n",
       "      <td>University</td>\n",
       "      <td>By car</td>\n",
       "      <td>46.0</td>\n",
       "      <td>57</td>\n",
       "      <td>111.0</td>\n",
       "      <td>141.600000</td>\n",
       "      <td>YES</td>\n",
       "      <td>14 to 16 yrs</td>\n",
       "    </tr>\n",
       "    <tr>\n",
       "      <th>1088</th>\n",
       "      <td>Rural</td>\n",
       "      <td>Day school</td>\n",
       "      <td>17</td>\n",
       "      <td>Male</td>\n",
       "      <td>Primary</td>\n",
       "      <td>By bike</td>\n",
       "      <td>45.5</td>\n",
       "      <td>55</td>\n",
       "      <td>113.0</td>\n",
       "      <td>150.413223</td>\n",
       "      <td>YES</td>\n",
       "      <td>17 to 19 yrs</td>\n",
       "    </tr>\n",
       "    <tr>\n",
       "      <th>77</th>\n",
       "      <td>Semi urban</td>\n",
       "      <td>Day school</td>\n",
       "      <td>14</td>\n",
       "      <td>Female</td>\n",
       "      <td>Secondary</td>\n",
       "      <td>On foot</td>\n",
       "      <td>45.0</td>\n",
       "      <td>54</td>\n",
       "      <td>113.0</td>\n",
       "      <td>154.700000</td>\n",
       "      <td>No</td>\n",
       "      <td>14 to 16 yrs</td>\n",
       "    </tr>\n",
       "    <tr>\n",
       "      <th>446</th>\n",
       "      <td>Semi urban</td>\n",
       "      <td>Day school</td>\n",
       "      <td>12</td>\n",
       "      <td>Female</td>\n",
       "      <td>University</td>\n",
       "      <td>On foot</td>\n",
       "      <td>43.0</td>\n",
       "      <td>49</td>\n",
       "      <td>113.2</td>\n",
       "      <td>180.800000</td>\n",
       "      <td>YES</td>\n",
       "      <td>10 to 13 yrs</td>\n",
       "    </tr>\n",
       "  </tbody>\n",
       "</table>\n",
       "<p>1229 rows × 12 columns</p>\n",
       "</div>"
      ],
      "text/plain": [
       "        Location    School types  Age     Sex Education level  \\\n",
       "142        Rural  Bording school   16  Female       Secondary   \n",
       "976        Rural  Bording school   19    Male      University   \n",
       "997   Semi urban      Day school   16    Male       Secondary   \n",
       "1181       Rural  Bording school   18    Male      University   \n",
       "1003  Semi urban      Day school   17    Male      University   \n",
       "...          ...             ...  ...     ...             ...   \n",
       "314   Semi urban      Day school   15  Female      University   \n",
       "199   Semi urban      Day school   15  Female      University   \n",
       "1088       Rural      Day school   17    Male         Primary   \n",
       "77    Semi urban      Day school   14  Female       Secondary   \n",
       "446   Semi urban      Day school   12  Female      University   \n",
       "\n",
       "     Mean to go to school   Weight(kg)  Height(cm)  Systolic BP         BMI  \\\n",
       "142                On foot        58.0         757         88.0    1.000000   \n",
       "976                 By car        75.0         189        104.0   20.996053   \n",
       "997                On foot        82.5         188        124.0   23.342010   \n",
       "1181               On foot        74.5         187        118.0   21.304584   \n",
       "1003               On foot        72.5         186        119.0   20.956180   \n",
       "...                    ...         ...         ...          ...         ...   \n",
       "314                 By car        46.0          57        111.0  141.600000   \n",
       "199                 By car        46.0          57        111.0  141.600000   \n",
       "1088               By bike        45.5          55        113.0  150.413223   \n",
       "77                 On foot        45.0          54        113.0  154.700000   \n",
       "446                On foot        43.0          49        113.2  180.800000   \n",
       "\n",
       "     Overweight     Age_group  \n",
       "142          No  14 to 16 yrs  \n",
       "976          No  17 to 19 yrs  \n",
       "997          No  14 to 16 yrs  \n",
       "1181         No  17 to 19 yrs  \n",
       "1003         No  17 to 19 yrs  \n",
       "...         ...           ...  \n",
       "314         YES  14 to 16 yrs  \n",
       "199         YES  14 to 16 yrs  \n",
       "1088        YES  17 to 19 yrs  \n",
       "77           No  14 to 16 yrs  \n",
       "446         YES  10 to 13 yrs  \n",
       "\n",
       "[1229 rows x 12 columns]"
      ]
     },
     "execution_count": 68,
     "metadata": {},
     "output_type": "execute_result"
    }
   ],
   "source": [
    "students.sort_values(by='Height(cm)', ascending = False)"
   ]
  },
  {
   "cell_type": "markdown",
   "id": "0ebd88ac",
   "metadata": {},
   "source": [
    "It's clear the height 757 is clearly an error in the input. let's drop this row and then re-evaluate the variable."
   ]
  },
  {
   "cell_type": "code",
   "execution_count": 78,
   "id": "a397689b",
   "metadata": {},
   "outputs": [],
   "source": [
    "# remove row with height = 757\n",
    "\n",
    "#students = \n",
    "students = students.drop(students[students['Height(cm)'] == 757].index, axis=0)"
   ]
  },
  {
   "cell_type": "code",
   "execution_count": 80,
   "id": "7073206a",
   "metadata": {},
   "outputs": [
    {
     "data": {
      "text/html": [
       "<div>\n",
       "<style scoped>\n",
       "    .dataframe tbody tr th:only-of-type {\n",
       "        vertical-align: middle;\n",
       "    }\n",
       "\n",
       "    .dataframe tbody tr th {\n",
       "        vertical-align: top;\n",
       "    }\n",
       "\n",
       "    .dataframe thead th {\n",
       "        text-align: right;\n",
       "    }\n",
       "</style>\n",
       "<table border=\"1\" class=\"dataframe\">\n",
       "  <thead>\n",
       "    <tr style=\"text-align: right;\">\n",
       "      <th></th>\n",
       "      <th>Height(cm)</th>\n",
       "    </tr>\n",
       "  </thead>\n",
       "  <tbody>\n",
       "    <tr>\n",
       "      <th>count</th>\n",
       "      <td>1228.000000</td>\n",
       "    </tr>\n",
       "    <tr>\n",
       "      <th>mean</th>\n",
       "      <td>158.892508</td>\n",
       "    </tr>\n",
       "    <tr>\n",
       "      <th>std</th>\n",
       "      <td>11.991569</td>\n",
       "    </tr>\n",
       "    <tr>\n",
       "      <th>min</th>\n",
       "      <td>49.000000</td>\n",
       "    </tr>\n",
       "    <tr>\n",
       "      <th>25%</th>\n",
       "      <td>154.000000</td>\n",
       "    </tr>\n",
       "    <tr>\n",
       "      <th>50%</th>\n",
       "      <td>160.000000</td>\n",
       "    </tr>\n",
       "    <tr>\n",
       "      <th>75%</th>\n",
       "      <td>165.000000</td>\n",
       "    </tr>\n",
       "    <tr>\n",
       "      <th>max</th>\n",
       "      <td>189.000000</td>\n",
       "    </tr>\n",
       "  </tbody>\n",
       "</table>\n",
       "</div>"
      ],
      "text/plain": [
       "        Height(cm)\n",
       "count  1228.000000\n",
       "mean    158.892508\n",
       "std      11.991569\n",
       "min      49.000000\n",
       "25%     154.000000\n",
       "50%     160.000000\n",
       "75%     165.000000\n",
       "max     189.000000"
      ]
     },
     "execution_count": 80,
     "metadata": {},
     "output_type": "execute_result"
    }
   ],
   "source": [
    "students[['Height(cm)']].describe()"
   ]
  },
  {
   "cell_type": "code",
   "execution_count": 86,
   "id": "f06a0157",
   "metadata": {},
   "outputs": [
    {
     "data": {
      "image/png": "[encoded data removed]",
      "text/plain": [
       "<Figure size 640x480 with 1 Axes>"
      ]
     },
     "metadata": {},
     "output_type": "display_data"
    }
   ],
   "source": [
    "# display a histogram and a density plot for weight.\n",
    "\n",
    "students.hist(column='Height(cm)', grid=False)\n",
    "\n",
    "plt.show()"
   ]
  },
  {
   "cell_type": "code",
   "execution_count": 87,
   "id": "e09be331",
   "metadata": {},
   "outputs": [
    {
     "data": {
      "image/png": "[encoded data removed]",
      "text/plain": [
       "<Figure size 640x480 with 1 Axes>"
      ]
     },
     "metadata": {},
     "output_type": "display_data"
    }
   ],
   "source": [
    "# display a box plot\n",
    "\n",
    "box=sns.boxplot(y=students['Height(cm)'])\n"
   ]
  },
  {
   "cell_type": "code",
   "execution_count": null,
   "id": "3778b26e",
   "metadata": {},
   "outputs": [],
   "source": []
  },
  {
   "cell_type": "markdown",
   "id": "b2b334a8",
   "metadata": {},
   "source": [
    "To achieve this, we need to use the 25th and 75th percentile and calculate the interquartile range,iqr (percentile75 - percentile25). we need the iqr to identify our outliers because an outlier is a value lower than the 25th percentile by 1.5 * iqr and a value higher than the 75th percentile by 1.5 * iqr"
   ]
  },
  {
   "cell_type": "code",
   "execution_count": 27,
   "id": "54421a05",
   "metadata": {},
   "outputs": [
    {
     "name": "stdout",
     "output_type": "stream",
     "text": [
      "Values below 26.0 and above 82.0 are outliers\n"
     ]
    }
   ],
   "source": [
    "# calculate 25th percentile of weight\n",
    "percentile25 = students['Weight(kg)'].quantile(0.25)\n",
    "\n",
    "# calculate 75th percentile of weight\n",
    "percentile75 = students['Weight(kg)'].quantile(0.75)\n",
    "\n",
    "# calculate the iqr\n",
    "iqr = percentile75 - percentile25\n",
    "\n",
    "#calculate the upper and lower thresholds\n",
    "upper_limit = percentile75 + 1.5 * iqr\n",
    "lower_limit = percentile25 - 1.5 * iqr\n",
    "\n",
    "# print the lower and upper limits\n",
    "print(f'''Values below {lower_limit} and above {upper_limit} are outliers''')"
   ]
  },
  {
   "cell_type": "code",
   "execution_count": 45,
   "id": "233b7014",
   "metadata": {},
   "outputs": [
    {
     "data": {
      "text/html": [
       "<div>\n",
       "<style scoped>\n",
       "    .dataframe tbody tr th:only-of-type {\n",
       "        vertical-align: middle;\n",
       "    }\n",
       "\n",
       "    .dataframe tbody tr th {\n",
       "        vertical-align: top;\n",
       "    }\n",
       "\n",
       "    .dataframe thead th {\n",
       "        text-align: right;\n",
       "    }\n",
       "</style>\n",
       "<table border=\"1\" class=\"dataframe\">\n",
       "  <thead>\n",
       "    <tr style=\"text-align: right;\">\n",
       "      <th></th>\n",
       "      <th>Location</th>\n",
       "      <th>School types</th>\n",
       "      <th>Age</th>\n",
       "      <th>Sex</th>\n",
       "      <th>Education level</th>\n",
       "      <th>Mean to go to school</th>\n",
       "      <th>Weight(kg)</th>\n",
       "      <th>Height(cm)</th>\n",
       "      <th>Systolic BP</th>\n",
       "      <th>BMI</th>\n",
       "      <th>Overweight</th>\n",
       "      <th>Age_group</th>\n",
       "    </tr>\n",
       "  </thead>\n",
       "  <tbody>\n",
       "    <tr>\n",
       "      <th>41</th>\n",
       "      <td>Semi urban</td>\n",
       "      <td>Bording school</td>\n",
       "      <td>19</td>\n",
       "      <td>Female</td>\n",
       "      <td>University</td>\n",
       "      <td>By car</td>\n",
       "      <td>85.0</td>\n",
       "      <td>152</td>\n",
       "      <td>112.0</td>\n",
       "      <td>36.9</td>\n",
       "      <td>YES</td>\n",
       "      <td>17 to 19 yrs</td>\n",
       "    </tr>\n",
       "    <tr>\n",
       "      <th>165</th>\n",
       "      <td>Semi urban</td>\n",
       "      <td>Day school</td>\n",
       "      <td>14</td>\n",
       "      <td>Female</td>\n",
       "      <td>University</td>\n",
       "      <td>By car</td>\n",
       "      <td>84.0</td>\n",
       "      <td>163</td>\n",
       "      <td>136.0</td>\n",
       "      <td>31.7</td>\n",
       "      <td>YES</td>\n",
       "      <td>14 to 16 yrs</td>\n",
       "    </tr>\n",
       "    <tr>\n",
       "      <th>215</th>\n",
       "      <td>Semi urban</td>\n",
       "      <td>Bording school</td>\n",
       "      <td>16</td>\n",
       "      <td>Female</td>\n",
       "      <td>University</td>\n",
       "      <td>On foot</td>\n",
       "      <td>91.0</td>\n",
       "      <td>164</td>\n",
       "      <td>122.0</td>\n",
       "      <td>33.8</td>\n",
       "      <td>YES</td>\n",
       "      <td>14 to 16 yrs</td>\n",
       "    </tr>\n",
       "    <tr>\n",
       "      <th>233</th>\n",
       "      <td>Semi urban</td>\n",
       "      <td>Day school</td>\n",
       "      <td>15</td>\n",
       "      <td>Female</td>\n",
       "      <td>Secondary</td>\n",
       "      <td>On foot</td>\n",
       "      <td>4.0</td>\n",
       "      <td>158</td>\n",
       "      <td>105.0</td>\n",
       "      <td>1.4</td>\n",
       "      <td>YES</td>\n",
       "      <td>14 to 16 yrs</td>\n",
       "    </tr>\n",
       "    <tr>\n",
       "      <th>269</th>\n",
       "      <td>Rural</td>\n",
       "      <td>Bording school</td>\n",
       "      <td>12</td>\n",
       "      <td>Female</td>\n",
       "      <td>Secondary</td>\n",
       "      <td>On foot</td>\n",
       "      <td>90.0</td>\n",
       "      <td>158</td>\n",
       "      <td>110.0</td>\n",
       "      <td>36.1</td>\n",
       "      <td>YES</td>\n",
       "      <td>10 to 13 yrs</td>\n",
       "    </tr>\n",
       "  </tbody>\n",
       "</table>\n",
       "</div>"
      ],
      "text/plain": [
       "       Location    School types  Age     Sex Education level  \\\n",
       "41   Semi urban  Bording school   19  Female      University   \n",
       "165  Semi urban      Day school   14  Female      University   \n",
       "215  Semi urban  Bording school   16  Female      University   \n",
       "233  Semi urban      Day school   15  Female       Secondary   \n",
       "269       Rural  Bording school   12  Female       Secondary   \n",
       "\n",
       "    Mean to go to school   Weight(kg)  Height(cm)  Systolic BP   BMI  \\\n",
       "41                 By car        85.0         152        112.0  36.9   \n",
       "165                By car        84.0         163        136.0  31.7   \n",
       "215               On foot        91.0         164        122.0  33.8   \n",
       "233               On foot         4.0         158        105.0   1.4   \n",
       "269               On foot        90.0         158        110.0  36.1   \n",
       "\n",
       "    Overweight     Age_group  \n",
       "41         YES  17 to 19 yrs  \n",
       "165        YES  14 to 16 yrs  \n",
       "215        YES  14 to 16 yrs  \n",
       "233        YES  14 to 16 yrs  \n",
       "269        YES  10 to 13 yrs  "
      ]
     },
     "execution_count": 45,
     "metadata": {},
     "output_type": "execute_result"
    }
   ],
   "source": [
    "# print out the rows that contain outliers\n",
    "outliers = students[(students['Weight(kg)'] < lower_limit) | (students['Weight(kg)'] > upper_limit) ]\n",
    "outliers.head()"
   ]
  },
  {
   "cell_type": "code",
   "execution_count": 46,
   "id": "b311b6d3",
   "metadata": {},
   "outputs": [
    {
     "data": {
      "text/plain": [
       "28"
      ]
     },
     "execution_count": 46,
     "metadata": {},
     "output_type": "execute_result"
    }
   ],
   "source": [
    "outliers.shape[0]"
   ]
  },
  {
   "cell_type": "markdown",
   "id": "61e30308",
   "metadata": {},
   "source": [
    "we have 28 rows with outliers for the weight variable"
   ]
  },
  {
   "cell_type": "markdown",
   "id": "6162f254",
   "metadata": {},
   "source": [
    "Now, we have identified our limits beyond which our outliers lie. Next, we create a boolean mask which will be used to filter our dataset so that it only contains rows where the weight is less than the lower limit or higher than the upper limit"
   ]
  }
 ],
 "metadata": {
  "kernelspec": {
   "display_name": "Python 3 (ipykernel)",
   "language": "python",
   "name": "python3"
  },
  "language_info": {
   "codemirror_mode": {
    "name": "ipython",
    "version": 3
   },
   "file_extension": ".py",
   "mimetype": "text/x-python",
   "name": "python",
   "nbconvert_exporter": "python",
   "pygments_lexer": "ipython3",
   "version": "3.11.3"
  }
 },
 "nbformat": 4,
 "nbformat_minor": 5
}
