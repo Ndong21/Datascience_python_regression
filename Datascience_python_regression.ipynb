{
 "cells": [
  {
   "cell_type": "markdown",
   "id": "2297cb80",
   "metadata": {},
   "source": [
    "# Regression Analysis"
   ]
  },
  {
   "cell_type": "markdown",
   "id": "bc2fc3a5",
   "metadata": {},
   "source": [
    "# About the dataset"
   ]
  },
  {
   "cell_type": "markdown",
   "id": "4bde26eb",
   "metadata": {},
   "source": [
    "This dataset was collected to investigate the relationship between systolic blood pressure (Response) and personal characteristics, school types, location, mode of transport to school, BMI and overweight in secondary school children in Fako division, South West Region, Cameroon."
   ]
  },
  {
   "cell_type": "markdown",
   "id": "053f7f95",
   "metadata": {},
   "source": [
    "# Purpose and Objective "
   ]
  },
  {
   "cell_type": "markdown",
   "id": "9ec07572",
   "metadata": {},
   "source": [
    "The purpose of this project is to demonstrate knowledge of exploratory data analysis (EDA) [discovery, structuring, cleaning, joining, validating and presenting] on our dataset as a best practice to give us insights and make data fit for further analysis and modelling. Later on, we wil proceed to build our machine learning models using the cleaned and validated data obtained by performing EDA"
   ]
  },
  {
   "cell_type": "markdown",
   "id": "10a74354",
   "metadata": {},
   "source": [
    "The main objective in this project is to: \n",
    "i) Build a multiple linear regression model to investigate possible predictors of systolic BP and \n",
    "ii) Build a simple logistic regression model using overweight as outcome to identify risk factors of overweight. "
   ]
  },
  {
   "cell_type": "markdown",
   "id": "115bd9cc",
   "metadata": {},
   "source": [
    "# Tools used for analysis, visualizations and model building"
   ]
  },
  {
   "cell_type": "markdown",
   "id": "78a8a1f9",
   "metadata": {},
   "source": [
    "In this project, we will use python libraries for analysis (pandas and numpy), visualization (matplotlib) and model building."
   ]
  },
  {
   "cell_type": "markdown",
   "id": "b1677f34",
   "metadata": {},
   "source": [
    "# Project parts"
   ]
  },
  {
   "cell_type": "markdown",
   "id": "7ccc47ee",
   "metadata": {},
   "source": [
    "This project will be broken down into 3 parts:"
   ]
  },
  {
   "cell_type": "markdown",
   "id": "b2fbd105",
   "metadata": {},
   "source": [
    "# Part 1: Exploratory Data Analysis (EDA)"
   ]
  },
  {
   "cell_type": "markdown",
   "id": "c5aa70db",
   "metadata": {},
   "source": [
    "In this part of the project, we will use the required libraries to get to know our data, find insights, check and handle missing data, as well as visualize our data to spot and identify the characteristics that lie within our data."
   ]
  },
  {
   "cell_type": "markdown",
   "id": "15063983",
   "metadata": {},
   "source": [
    "# Part 2: Model building "
   ]
  },
  {
   "cell_type": "markdown",
   "id": "23fd793d",
   "metadata": {},
   "source": [
    "in this part, we will use the insights generated from the process of the EDA to build our machine learning algorithm."
   ]
  },
  {
   "cell_type": "markdown",
   "id": "024ebfd3",
   "metadata": {},
   "source": [
    "# Part 3: Presentation of results"
   ]
  },
  {
   "cell_type": "markdown",
   "id": "ca3b8232",
   "metadata": {},
   "source": [
    "what insights did we generate from our model? what is the impact of this finding to whom it may concern."
   ]
  },
  {
   "cell_type": "markdown",
   "id": "50835f8a-41ab-4f92-bc27-1655d86ddea5",
   "metadata": {},
   "source": [
    "# Exploratory Data Analysis"
   ]
  },
  {
   "cell_type": "markdown",
   "id": "e3bfdc51-ca00-4e59-9c5b-4f1865c60415",
   "metadata": {},
   "source": [
    "# Importing libraries"
   ]
  },
  {
   "cell_type": "code",
   "execution_count": 2,
   "id": "365b73e2-3499-4b31-b2f5-cde1fa1bfbd7",
   "metadata": {},
   "outputs": [],
   "source": [
    "# import libraries and packages\n",
    "\n",
    "import pandas as pd\n",
    "import numpy as np\n",
    "import matplotlib.pyplot as plt"
   ]
  },
  {
   "cell_type": "markdown",
   "id": "8301ddcc",
   "metadata": {},
   "source": [
    "# Load the dataset into a Dataframe\n",
    "The dataset provided is in the form of an excel file named practical data stored in my local machine. We will load the data from the excel file into a Dataframe and save it in a variable"
   ]
  },
  {
   "cell_type": "code",
   "execution_count": 30,
   "id": "ec41cfe6",
   "metadata": {},
   "outputs": [],
   "source": [
    "# Load data from an excel file into a Dataframe and save in a variable\n",
    "# i will load the data to a variable called students since the data is about school children\n",
    "\n",
    "\n",
    "students = pd.read_excel(r'C:\\Users\\THE EYE INFORMATIQUE\\Desktop\\PRACTICAL  DATA.xlsx')"
   ]
  },
  {
   "cell_type": "markdown",
   "id": "648f6666",
   "metadata": {},
   "source": [
    "# Data exploration\n",
    "We will explore the dataset and answer questions to guide our exploration and analysis of the data as well as accurately model our algorithms."
   ]
  },
  {
   "cell_type": "markdown",
   "id": "abcb2113",
   "metadata": {},
   "source": [
    "To begin, let's display the first few rows of our data to get an understanding of how the dataset is structured"
   ]
  },
  {
   "cell_type": "code",
   "execution_count": 11,
   "id": "379ea2a7",
   "metadata": {},
   "outputs": [
    {
     "data": {
      "text/html": [
       "<div>\n",
       "<style scoped>\n",
       "    .dataframe tbody tr th:only-of-type {\n",
       "        vertical-align: middle;\n",
       "    }\n",
       "\n",
       "    .dataframe tbody tr th {\n",
       "        vertical-align: top;\n",
       "    }\n",
       "\n",
       "    .dataframe thead th {\n",
       "        text-align: right;\n",
       "    }\n",
       "</style>\n",
       "<table border=\"1\" class=\"dataframe\">\n",
       "  <thead>\n",
       "    <tr style=\"text-align: right;\">\n",
       "      <th></th>\n",
       "      <th>SN</th>\n",
       "      <th>Location</th>\n",
       "      <th>School types</th>\n",
       "      <th>Class</th>\n",
       "      <th>Age</th>\n",
       "      <th>Sex</th>\n",
       "      <th>Household size</th>\n",
       "      <th>Education level</th>\n",
       "      <th>Overweight in family</th>\n",
       "      <th>Mean to go to school</th>\n",
       "      <th>Weight(kg)</th>\n",
       "      <th>Height(cm)</th>\n",
       "      <th>Abdominal sie</th>\n",
       "      <th>Systolic BP</th>\n",
       "      <th>BMI</th>\n",
       "      <th>Overweight</th>\n",
       "    </tr>\n",
       "  </thead>\n",
       "  <tbody>\n",
       "    <tr>\n",
       "      <th>0</th>\n",
       "      <td>6</td>\n",
       "      <td>Semi urban</td>\n",
       "      <td>Day school</td>\n",
       "      <td>3</td>\n",
       "      <td>13</td>\n",
       "      <td>Female</td>\n",
       "      <td>1</td>\n",
       "      <td>Secondary</td>\n",
       "      <td>No</td>\n",
       "      <td>On foot</td>\n",
       "      <td>43.0</td>\n",
       "      <td>157</td>\n",
       "      <td>75.0</td>\n",
       "      <td>118.0</td>\n",
       "      <td>17.4</td>\n",
       "      <td>No</td>\n",
       "    </tr>\n",
       "    <tr>\n",
       "      <th>1</th>\n",
       "      <td>7</td>\n",
       "      <td>Semi urban</td>\n",
       "      <td>Day school</td>\n",
       "      <td>3</td>\n",
       "      <td>14</td>\n",
       "      <td>Female</td>\n",
       "      <td>2</td>\n",
       "      <td>University</td>\n",
       "      <td>No</td>\n",
       "      <td>On foot</td>\n",
       "      <td>46.0</td>\n",
       "      <td>159</td>\n",
       "      <td>76.0</td>\n",
       "      <td>111.0</td>\n",
       "      <td>18.2</td>\n",
       "      <td>No</td>\n",
       "    </tr>\n",
       "    <tr>\n",
       "      <th>2</th>\n",
       "      <td>22</td>\n",
       "      <td>Semi urban</td>\n",
       "      <td>Day school</td>\n",
       "      <td>1</td>\n",
       "      <td>10</td>\n",
       "      <td>Female</td>\n",
       "      <td>2</td>\n",
       "      <td>University</td>\n",
       "      <td>No</td>\n",
       "      <td>On foot</td>\n",
       "      <td>33.0</td>\n",
       "      <td>132</td>\n",
       "      <td>63.0</td>\n",
       "      <td>94.0</td>\n",
       "      <td>19.2</td>\n",
       "      <td>YES</td>\n",
       "    </tr>\n",
       "    <tr>\n",
       "      <th>3</th>\n",
       "      <td>24</td>\n",
       "      <td>Semi urban</td>\n",
       "      <td>Day school</td>\n",
       "      <td>4</td>\n",
       "      <td>19</td>\n",
       "      <td>Female</td>\n",
       "      <td>2</td>\n",
       "      <td>Primary</td>\n",
       "      <td>No</td>\n",
       "      <td>On foot</td>\n",
       "      <td>65.0</td>\n",
       "      <td>168</td>\n",
       "      <td>80.0</td>\n",
       "      <td>126.0</td>\n",
       "      <td>23.1</td>\n",
       "      <td>No</td>\n",
       "    </tr>\n",
       "    <tr>\n",
       "      <th>4</th>\n",
       "      <td>32</td>\n",
       "      <td>Semi urban</td>\n",
       "      <td>Day school</td>\n",
       "      <td>3</td>\n",
       "      <td>12</td>\n",
       "      <td>Female</td>\n",
       "      <td>2</td>\n",
       "      <td>University</td>\n",
       "      <td>No</td>\n",
       "      <td>On foot</td>\n",
       "      <td>31.0</td>\n",
       "      <td>151</td>\n",
       "      <td>70.0</td>\n",
       "      <td>87.0</td>\n",
       "      <td>13.8</td>\n",
       "      <td>No</td>\n",
       "    </tr>\n",
       "    <tr>\n",
       "      <th>5</th>\n",
       "      <td>38</td>\n",
       "      <td>Semi urban</td>\n",
       "      <td>Day school</td>\n",
       "      <td>3</td>\n",
       "      <td>12</td>\n",
       "      <td>Female</td>\n",
       "      <td>2</td>\n",
       "      <td>Secondary</td>\n",
       "      <td>No</td>\n",
       "      <td>On foot</td>\n",
       "      <td>46.0</td>\n",
       "      <td>155</td>\n",
       "      <td>68.0</td>\n",
       "      <td>123.0</td>\n",
       "      <td>19.3</td>\n",
       "      <td>No</td>\n",
       "    </tr>\n",
       "    <tr>\n",
       "      <th>6</th>\n",
       "      <td>43</td>\n",
       "      <td>Semi urban</td>\n",
       "      <td>Day school</td>\n",
       "      <td>3</td>\n",
       "      <td>13</td>\n",
       "      <td>Female</td>\n",
       "      <td>3</td>\n",
       "      <td>University</td>\n",
       "      <td>No</td>\n",
       "      <td>On foot</td>\n",
       "      <td>50.0</td>\n",
       "      <td>156</td>\n",
       "      <td>73.0</td>\n",
       "      <td>94.0</td>\n",
       "      <td>20.4</td>\n",
       "      <td>No</td>\n",
       "    </tr>\n",
       "    <tr>\n",
       "      <th>7</th>\n",
       "      <td>50</td>\n",
       "      <td>Semi urban</td>\n",
       "      <td>Day school</td>\n",
       "      <td>1</td>\n",
       "      <td>11</td>\n",
       "      <td>Female</td>\n",
       "      <td>2</td>\n",
       "      <td>University</td>\n",
       "      <td>No</td>\n",
       "      <td>On foot</td>\n",
       "      <td>42.0</td>\n",
       "      <td>151</td>\n",
       "      <td>65.0</td>\n",
       "      <td>99.0</td>\n",
       "      <td>18.3</td>\n",
       "      <td>No</td>\n",
       "    </tr>\n",
       "    <tr>\n",
       "      <th>8</th>\n",
       "      <td>63</td>\n",
       "      <td>Rural</td>\n",
       "      <td>Bording</td>\n",
       "      <td>5</td>\n",
       "      <td>17</td>\n",
       "      <td>Female</td>\n",
       "      <td>3</td>\n",
       "      <td>University</td>\n",
       "      <td>No</td>\n",
       "      <td>On foot</td>\n",
       "      <td>45.0</td>\n",
       "      <td>162</td>\n",
       "      <td>68.0</td>\n",
       "      <td>128.0</td>\n",
       "      <td>17.1</td>\n",
       "      <td>No</td>\n",
       "    </tr>\n",
       "    <tr>\n",
       "      <th>9</th>\n",
       "      <td>64</td>\n",
       "      <td>Rural</td>\n",
       "      <td>Bording</td>\n",
       "      <td>2</td>\n",
       "      <td>12</td>\n",
       "      <td>Female</td>\n",
       "      <td>2</td>\n",
       "      <td>Secondary</td>\n",
       "      <td>No</td>\n",
       "      <td>By bike</td>\n",
       "      <td>41.0</td>\n",
       "      <td>146</td>\n",
       "      <td>70.0</td>\n",
       "      <td>108.0</td>\n",
       "      <td>19.3</td>\n",
       "      <td>No</td>\n",
       "    </tr>\n",
       "  </tbody>\n",
       "</table>\n",
       "</div>"
      ],
      "text/plain": [
       "   SN    Location School types  Class   Age     Sex  Household size  \\\n",
       "0   6  Semi urban   Day school       3   13  Female               1   \n",
       "1   7  Semi urban   Day school       3   14  Female               2   \n",
       "2  22  Semi urban   Day school       1   10  Female               2   \n",
       "3  24  Semi urban   Day school       4   19  Female               2   \n",
       "4  32  Semi urban   Day school       3   12  Female               2   \n",
       "5  38  Semi urban   Day school       3   12  Female               2   \n",
       "6  43  Semi urban   Day school       3   13  Female               3   \n",
       "7  50  Semi urban   Day school       1   11  Female               2   \n",
       "8  63       Rural      Bording       5   17  Female               3   \n",
       "9  64       Rural      Bording       2   12  Female               2   \n",
       "\n",
       "  Education level Overweight in family Mean to go to school   Weight(kg)  \\\n",
       "0       Secondary                   No               On foot        43.0   \n",
       "1      University                   No               On foot        46.0   \n",
       "2      University                   No               On foot        33.0   \n",
       "3         Primary                   No               On foot        65.0   \n",
       "4      University                   No               On foot        31.0   \n",
       "5       Secondary                   No               On foot        46.0   \n",
       "6      University                   No               On foot        50.0   \n",
       "7      University                   No               On foot        42.0   \n",
       "8      University                   No               On foot        45.0   \n",
       "9       Secondary                   No               By bike        41.0   \n",
       "\n",
       "   Height(cm)  Abdominal sie  Systolic BP   BMI Overweight  \n",
       "0         157           75.0        118.0  17.4         No  \n",
       "1         159           76.0        111.0  18.2         No  \n",
       "2         132           63.0         94.0  19.2        YES  \n",
       "3         168           80.0        126.0  23.1         No  \n",
       "4         151           70.0         87.0  13.8         No  \n",
       "5         155           68.0        123.0  19.3         No  \n",
       "6         156           73.0         94.0  20.4         No  \n",
       "7         151           65.0         99.0  18.3         No  \n",
       "8         162           68.0        128.0  17.1         No  \n",
       "9         146           70.0        108.0  19.3         No  "
      ]
     },
     "execution_count": 11,
     "metadata": {},
     "output_type": "execute_result"
    }
   ],
   "source": [
    "# Display the first 10 rows of the data\n",
    "# we will use .head() method, which by default displays the first 5 rows\n",
    "\n",
    "\n",
    "students.head(10)"
   ]
  },
  {
   "cell_type": "markdown",
   "id": "b0c8fa93",
   "metadata": {},
   "source": [
    "Let's calculate the number of rows and columns in the dataset"
   ]
  },
  {
   "cell_type": "code",
   "execution_count": 12,
   "id": "e31d6441",
   "metadata": {},
   "outputs": [
    {
     "data": {
      "text/plain": [
       "(1229, 16)"
      ]
     },
     "execution_count": 12,
     "metadata": {},
     "output_type": "execute_result"
    }
   ],
   "source": [
    "# To get the number of rows and columns in our data, we use the shape property\n",
    "\n",
    "students.shape"
   ]
  },
  {
   "cell_type": "markdown",
   "id": "ee5461d3",
   "metadata": {},
   "source": [
    "# Question: \n",
    "What do you notice about the shape of the dataset?"
   ]
  },
  {
   "cell_type": "markdown",
   "id": "e976745d",
   "metadata": {},
   "source": [
    "- The shape of the dataset is (1229, 16). Jhe first number, 1229, represents the number of rows (entries). The second number, 16, represents the number of columns. According to this dataset, 1229 school students were interviewed and evaluate and this dataset shows 16 aspects of each student."
   ]
  },
  {
   "cell_type": "markdown",
   "id": "40235a02",
   "metadata": {},
   "source": [
    "Let's find out the characteristics or aspects (columns) of our dataset, and eliminate the ones we might not need. "
   ]
  },
  {
   "cell_type": "code",
   "execution_count": 19,
   "id": "92293f93",
   "metadata": {},
   "outputs": [
    {
     "data": {
      "text/plain": [
       "Index(['SN', 'Location', 'School types', 'Class ', 'Age', 'Sex',\n",
       "       'Household size', 'Education level', 'Overweight in family',\n",
       "       'Mean to go to school ', 'Weight(kg)', 'Height(cm)', 'Abdominal sie',\n",
       "       'Systolic BP', 'BMI', 'Overweight'],\n",
       "      dtype='object')"
      ]
     },
     "execution_count": 19,
     "metadata": {},
     "output_type": "execute_result"
    }
   ],
   "source": [
    "# Display all the columns in the data set.\n",
    "\n",
    "students.columns"
   ]
  },
  {
   "cell_type": "markdown",
   "id": "07b87628",
   "metadata": {},
   "source": [
    "# Let's do some clean-up\n",
    "Some of these columns are not very relevant to us and hence we will drop them all (SN, Class, Household size, Overweight in family, Abdominal sie)"
   ]
  },
  {
   "cell_type": "code",
   "execution_count": 31,
   "id": "acdd5be7",
   "metadata": {},
   "outputs": [
    {
     "data": {
      "text/plain": [
       "(1229, 11)"
      ]
     },
     "execution_count": 31,
     "metadata": {},
     "output_type": "execute_result"
    }
   ],
   "source": [
    "# Drop columns [SN, Class, Household size, Overweight in family, Abdominal sie]\n",
    "# we set the axis to 1, this is to indicate we wish to delete the columns\n",
    "# we will asign the results back to students variable\n",
    "\n",
    "\n",
    "students = students.drop(['SN', 'Class ', 'Household size', 'Overweight in family', 'Abdominal sie'], axis = 1)\n",
    "\n",
    "students.shape"
   ]
  },
  {
   "cell_type": "markdown",
   "id": "677bccf5",
   "metadata": {},
   "source": [
    "Now we are left with 11 columns which we will use for our analysis.\n",
    "\n",
    "Now, let's preview our dataset "
   ]
  },
  {
   "cell_type": "code",
   "execution_count": 37,
   "id": "15989d94",
   "metadata": {},
   "outputs": [
    {
     "data": {
      "text/html": [
       "<div>\n",
       "<style scoped>\n",
       "    .dataframe tbody tr th:only-of-type {\n",
       "        vertical-align: middle;\n",
       "    }\n",
       "\n",
       "    .dataframe tbody tr th {\n",
       "        vertical-align: top;\n",
       "    }\n",
       "\n",
       "    .dataframe thead th {\n",
       "        text-align: right;\n",
       "    }\n",
       "</style>\n",
       "<table border=\"1\" class=\"dataframe\">\n",
       "  <thead>\n",
       "    <tr style=\"text-align: right;\">\n",
       "      <th></th>\n",
       "      <th>Location</th>\n",
       "      <th>School types</th>\n",
       "      <th>Age</th>\n",
       "      <th>Sex</th>\n",
       "      <th>Education level</th>\n",
       "      <th>Mean to go to school</th>\n",
       "      <th>Weight(kg)</th>\n",
       "      <th>Height(cm)</th>\n",
       "      <th>Systolic BP</th>\n",
       "      <th>BMI</th>\n",
       "      <th>Overweight</th>\n",
       "    </tr>\n",
       "  </thead>\n",
       "  <tbody>\n",
       "    <tr>\n",
       "      <th>0</th>\n",
       "      <td>Semi urban</td>\n",
       "      <td>Day school</td>\n",
       "      <td>13</td>\n",
       "      <td>Female</td>\n",
       "      <td>Secondary</td>\n",
       "      <td>On foot</td>\n",
       "      <td>43.0</td>\n",
       "      <td>157</td>\n",
       "      <td>118.0</td>\n",
       "      <td>17.400000</td>\n",
       "      <td>No</td>\n",
       "    </tr>\n",
       "    <tr>\n",
       "      <th>1</th>\n",
       "      <td>Semi urban</td>\n",
       "      <td>Day school</td>\n",
       "      <td>14</td>\n",
       "      <td>Female</td>\n",
       "      <td>University</td>\n",
       "      <td>On foot</td>\n",
       "      <td>46.0</td>\n",
       "      <td>159</td>\n",
       "      <td>111.0</td>\n",
       "      <td>18.200000</td>\n",
       "      <td>No</td>\n",
       "    </tr>\n",
       "    <tr>\n",
       "      <th>2</th>\n",
       "      <td>Semi urban</td>\n",
       "      <td>Day school</td>\n",
       "      <td>10</td>\n",
       "      <td>Female</td>\n",
       "      <td>University</td>\n",
       "      <td>On foot</td>\n",
       "      <td>33.0</td>\n",
       "      <td>132</td>\n",
       "      <td>94.0</td>\n",
       "      <td>19.200000</td>\n",
       "      <td>YES</td>\n",
       "    </tr>\n",
       "    <tr>\n",
       "      <th>3</th>\n",
       "      <td>Semi urban</td>\n",
       "      <td>Day school</td>\n",
       "      <td>19</td>\n",
       "      <td>Female</td>\n",
       "      <td>Primary</td>\n",
       "      <td>On foot</td>\n",
       "      <td>65.0</td>\n",
       "      <td>168</td>\n",
       "      <td>126.0</td>\n",
       "      <td>23.100000</td>\n",
       "      <td>No</td>\n",
       "    </tr>\n",
       "    <tr>\n",
       "      <th>4</th>\n",
       "      <td>Semi urban</td>\n",
       "      <td>Day school</td>\n",
       "      <td>12</td>\n",
       "      <td>Female</td>\n",
       "      <td>University</td>\n",
       "      <td>On foot</td>\n",
       "      <td>31.0</td>\n",
       "      <td>151</td>\n",
       "      <td>87.0</td>\n",
       "      <td>13.800000</td>\n",
       "      <td>No</td>\n",
       "    </tr>\n",
       "    <tr>\n",
       "      <th>...</th>\n",
       "      <td>...</td>\n",
       "      <td>...</td>\n",
       "      <td>...</td>\n",
       "      <td>...</td>\n",
       "      <td>...</td>\n",
       "      <td>...</td>\n",
       "      <td>...</td>\n",
       "      <td>...</td>\n",
       "      <td>...</td>\n",
       "      <td>...</td>\n",
       "      <td>...</td>\n",
       "    </tr>\n",
       "    <tr>\n",
       "      <th>1224</th>\n",
       "      <td>Rural</td>\n",
       "      <td>Day school</td>\n",
       "      <td>15</td>\n",
       "      <td>Male</td>\n",
       "      <td>University</td>\n",
       "      <td>By bike</td>\n",
       "      <td>45.5</td>\n",
       "      <td>156</td>\n",
       "      <td>112.0</td>\n",
       "      <td>18.696581</td>\n",
       "      <td>No</td>\n",
       "    </tr>\n",
       "    <tr>\n",
       "      <th>1225</th>\n",
       "      <td>Rural</td>\n",
       "      <td>Day school</td>\n",
       "      <td>14</td>\n",
       "      <td>Female</td>\n",
       "      <td>NaN</td>\n",
       "      <td>By car</td>\n",
       "      <td>57.0</td>\n",
       "      <td>163</td>\n",
       "      <td>135.0</td>\n",
       "      <td>21.300000</td>\n",
       "      <td>No</td>\n",
       "    </tr>\n",
       "    <tr>\n",
       "      <th>1226</th>\n",
       "      <td>Rural</td>\n",
       "      <td>Day school</td>\n",
       "      <td>16</td>\n",
       "      <td>Male</td>\n",
       "      <td>Secondary</td>\n",
       "      <td>By car</td>\n",
       "      <td>54.0</td>\n",
       "      <td>158</td>\n",
       "      <td>106.0</td>\n",
       "      <td>21.631149</td>\n",
       "      <td>No</td>\n",
       "    </tr>\n",
       "    <tr>\n",
       "      <th>1227</th>\n",
       "      <td>Rural</td>\n",
       "      <td>Bording school</td>\n",
       "      <td>15</td>\n",
       "      <td>Female</td>\n",
       "      <td>Secondary</td>\n",
       "      <td>On foot</td>\n",
       "      <td>47.0</td>\n",
       "      <td>154</td>\n",
       "      <td>109.0</td>\n",
       "      <td>19.900000</td>\n",
       "      <td>No</td>\n",
       "    </tr>\n",
       "    <tr>\n",
       "      <th>1228</th>\n",
       "      <td>Semi urban</td>\n",
       "      <td>Day school</td>\n",
       "      <td>14</td>\n",
       "      <td>Female</td>\n",
       "      <td>Secondary</td>\n",
       "      <td>On foot</td>\n",
       "      <td>72.0</td>\n",
       "      <td>165</td>\n",
       "      <td>127.0</td>\n",
       "      <td>26.300000</td>\n",
       "      <td>YES</td>\n",
       "    </tr>\n",
       "  </tbody>\n",
       "</table>\n",
       "<p>1229 rows × 11 columns</p>\n",
       "</div>"
      ],
      "text/plain": [
       "        Location    School types  Age     Sex Education level  \\\n",
       "0     Semi urban      Day school   13  Female       Secondary   \n",
       "1     Semi urban      Day school   14  Female      University   \n",
       "2     Semi urban      Day school   10  Female      University   \n",
       "3     Semi urban      Day school   19  Female         Primary   \n",
       "4     Semi urban      Day school   12  Female      University   \n",
       "...          ...             ...  ...     ...             ...   \n",
       "1224       Rural      Day school   15    Male      University   \n",
       "1225       Rural      Day school   14  Female             NaN   \n",
       "1226       Rural      Day school   16    Male       Secondary   \n",
       "1227       Rural  Bording school   15  Female       Secondary   \n",
       "1228  Semi urban      Day school   14  Female       Secondary   \n",
       "\n",
       "     Mean to go to school   Weight(kg)  Height(cm)  Systolic BP        BMI  \\\n",
       "0                  On foot        43.0         157        118.0  17.400000   \n",
       "1                  On foot        46.0         159        111.0  18.200000   \n",
       "2                  On foot        33.0         132         94.0  19.200000   \n",
       "3                  On foot        65.0         168        126.0  23.100000   \n",
       "4                  On foot        31.0         151         87.0  13.800000   \n",
       "...                    ...         ...         ...          ...        ...   \n",
       "1224               By bike        45.5         156        112.0  18.696581   \n",
       "1225                By car        57.0         163        135.0  21.300000   \n",
       "1226                By car        54.0         158        106.0  21.631149   \n",
       "1227               On foot        47.0         154        109.0  19.900000   \n",
       "1228               On foot        72.0         165        127.0  26.300000   \n",
       "\n",
       "     Overweight  \n",
       "0            No  \n",
       "1            No  \n",
       "2           YES  \n",
       "3            No  \n",
       "4            No  \n",
       "...         ...  \n",
       "1224         No  \n",
       "1225         No  \n",
       "1226         No  \n",
       "1227         No  \n",
       "1228        YES  \n",
       "\n",
       "[1229 rows x 11 columns]"
      ]
     },
     "execution_count": 37,
     "metadata": {},
     "output_type": "execute_result"
    }
   ],
   "source": [
    "students"
   ]
  },
  {
   "cell_type": "markdown",
   "id": "231c9101",
   "metadata": {},
   "source": [
    "# Now, let's get some basic information about our dataset\n",
    "To further understand what the dataset entails, let's get basic information about the dataset including the datatypes of each column and number of columns without null values"
   ]
  },
  {
   "cell_type": "code",
   "execution_count": 38,
   "id": "be017434",
   "metadata": {},
   "outputs": [
    {
     "name": "stdout",
     "output_type": "stream",
     "text": [
      "<class 'pandas.core.frame.DataFrame'>\n",
      "RangeIndex: 1229 entries, 0 to 1228\n",
      "Data columns (total 11 columns):\n",
      " #   Column                 Non-Null Count  Dtype  \n",
      "---  ------                 --------------  -----  \n",
      " 0   Location               1229 non-null   object \n",
      " 1   School types           1229 non-null   object \n",
      " 2   Age                    1229 non-null   int64  \n",
      " 3   Sex                    1229 non-null   object \n",
      " 4   Education level        1228 non-null   object \n",
      " 5   Mean to go to school   1229 non-null   object \n",
      " 6   Weight(kg)             1229 non-null   float64\n",
      " 7   Height(cm)             1229 non-null   int64  \n",
      " 8   Systolic BP            1224 non-null   float64\n",
      " 9   BMI                    1229 non-null   float64\n",
      " 10  Overweight             1229 non-null   object \n",
      "dtypes: float64(3), int64(2), object(6)\n",
      "memory usage: 105.7+ KB\n"
     ]
    }
   ],
   "source": [
    "# we will the info() function from pandas to obtain this infomation\n",
    "\n",
    "students.info()"
   ]
  },
  {
   "cell_type": "markdown",
   "id": "755349e3",
   "metadata": {},
   "source": [
    "# Questions\n",
    "What can you comment about the type of data in the various columns?"
   ]
  },
  {
   "cell_type": "markdown",
   "id": "3bc5a9ab",
   "metadata": {},
   "source": [
    "- The dataset has both number (float64 and int64) and string (objects) variables. the number variables are called continous while the string variables are called categorical data. Certain computations are difficult or not even possible to be performed on strings in python, hence, later we will transform all these categories to be represented by numbers which will make computation easier.\n",
    "\n",
    "- Its also weathy to note that our data is pretty clean as it has no missing, or null values in all the columns "
   ]
  },
  {
   "cell_type": "code",
   "execution_count": null,
   "id": "cf6bd9b5",
   "metadata": {},
   "outputs": [],
   "source": []
  }
 ],
 "metadata": {
  "kernelspec": {
   "display_name": "Python 3 (ipykernel)",
   "language": "python",
   "name": "python3"
  },
  "language_info": {
   "codemirror_mode": {
    "name": "ipython",
    "version": 3
   },
   "file_extension": ".py",
   "mimetype": "text/x-python",
   "name": "python",
   "nbconvert_exporter": "python",
   "pygments_lexer": "ipython3",
   "version": "3.11.3"
  }
 },
 "nbformat": 4,
 "nbformat_minor": 5
}
